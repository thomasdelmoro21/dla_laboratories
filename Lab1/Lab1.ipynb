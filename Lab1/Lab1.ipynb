{
  "cells": [
    {
      "cell_type": "markdown",
      "id": "d97f7c5d-46f3-4cbd-80ad-f1e50cd65096",
      "metadata": {
        "id": "d97f7c5d-46f3-4cbd-80ad-f1e50cd65096"
      },
      "source": [
        "# Deep Learning Applications: Laboratory 1\n",
        "\n",
        "\n"
      ]
    },
    {
      "cell_type": "markdown",
      "id": "3b6c7d76",
      "metadata": {
        "id": "3b6c7d76"
      },
      "source": [
        "### Install dependencies\n",
        "\n",
        "`pip3 install torch torchvision torchaudio --index-url https://download.pytorch.org/whl/cu118`  \n",
        "`pip install matplotlib`  \n",
        "`pip install scikit-learn`  \n",
        "`pip install tqdm`  \n",
        "`pip install jupyterlab`  \n",
        "`pip install ipython`  \n",
        "`pip install wandb`  "
      ]
    },
    {
      "cell_type": "markdown",
      "id": "17ed8906-bd19-4b4f-8b79-4feae355ffd6",
      "metadata": {
        "id": "17ed8906-bd19-4b4f-8b79-4feae355ffd6"
      },
      "source": [
        "## Exercise 1.1: A baseline MLP\n",
        "In this exercise I implement a *simple* Multilayer Perceptron to classify the 10 digits of MNIST.\n",
        "Then I evaluate the model in terms of loss and accuracy on validation and test set.\n",
        "I use [Weights and Biases](https://wandb.ai/site) to monitor performance during the training process."
      ]
    },
    {
      "cell_type": "markdown",
      "id": "873dddea",
      "metadata": {
        "id": "873dddea"
      },
      "source": [
        "#### Import Dependencies"
      ]
    },
    {
      "cell_type": "code",
      "execution_count": 1,
      "id": "ab3a8282-2322-4dca-b76e-2f3863bc75fb",
      "metadata": {
        "id": "ab3a8282-2322-4dca-b76e-2f3863bc75fb",
        "tags": []
      },
      "outputs": [],
      "source": [
        "# Start with some standard imports.\n",
        "import numpy as np\n",
        "import matplotlib.pyplot as plt\n",
        "from functools import reduce\n",
        "import torch\n",
        "import wandb\n",
        "import math\n",
        "import os\n",
        "from torchvision.datasets import MNIST, CIFAR10\n",
        "from torch.utils.data import DataLoader, random_split\n",
        "import torch.nn as nn\n",
        "import torch.nn.functional as F\n",
        "import torchvision.transforms as transforms\n",
        "from tqdm import tqdm\n",
        "from sklearn.metrics import accuracy_score, classification_report"
      ]
    },
    {
      "cell_type": "code",
      "execution_count": 2,
      "id": "ffcc9447",
      "metadata": {
        "id": "ffcc9447"
      },
      "outputs": [],
      "source": [
        "device = torch.device(\"cuda\" if torch.cuda.is_available() else \"cpu\")\n",
        "device = 'cpu'"
      ]
    },
    {
      "cell_type": "markdown",
      "id": "d44b0d58",
      "metadata": {
        "id": "d44b0d58"
      },
      "source": [
        "#### Define Training Pipeline and utility functions\n",
        "These are the functions used for training and test processes.\n",
        "After the training loop the best model (based on validation accuracy) is saved in `/trained_models` directory."
      ]
    },
    {
      "cell_type": "code",
      "execution_count": 3,
      "id": "c78e54c8",
      "metadata": {
        "id": "c78e54c8"
      },
      "outputs": [],
      "source": [
        "def train_epoch(model, dataloader, criterion, optimizer, epoch='Unknown', device='cpu', fully_conv=False):\n",
        "    model.train()\n",
        "    losses = []\n",
        "    for (inputs, labels) in tqdm(dataloader, desc=f'Training epoch {epoch}', leave=True):\n",
        "        inputs, labels = inputs.to(device), labels.to(device)\n",
        "        optimizer.zero_grad()\n",
        "        outputs = model(inputs)\n",
        "        if fully_conv:\n",
        "            _, _, a, b = outputs.shape\n",
        "            gts = labels.unsqueeze(-1).unsqueeze(-1).repeat(1,a,b)\n",
        "            loss = criterion(outputs, gts)\n",
        "        else:\n",
        "          loss = criterion(outputs, labels)\n",
        "        loss.backward()\n",
        "        optimizer.step()\n",
        "        losses.append(loss.item())\n",
        "    avg_loss = np.mean(losses)\n",
        "    return avg_loss\n",
        "\n",
        "\n",
        "def evaluate_model(model, dataloader, criterion, device='cpu'):\n",
        "    model.eval()\n",
        "    losses = []\n",
        "    predictions = []\n",
        "    gts = []\n",
        "    with torch.no_grad():\n",
        "        for (inputs, labels) in tqdm(dataloader, desc='Evaluating', leave=False):\n",
        "            inputs, labels = inputs.to(device), labels.to(device)\n",
        "            outputs = model(inputs)\n",
        "            loss = criterion(outputs, labels)\n",
        "            preds = torch.argmax(outputs, dim=1)\n",
        "            gts.append(labels.cpu().numpy())\n",
        "            predictions.append(preds.detach().cpu().numpy())\n",
        "            losses.append(loss.item())\n",
        "    avg_loss = np.mean(losses)\n",
        "    accuracy = accuracy_score(np.hstack(gts), np.hstack(predictions))\n",
        "    report = classification_report(np.hstack(gts), np.hstack(predictions), zero_division=0, digits=3)\n",
        "    return avg_loss, accuracy, report\n",
        "\n",
        "\n",
        "def plot_validation_curves(losses_and_accs, fig_path):\n",
        "    train_losses = [x for (x, _, _) in losses_and_accs]\n",
        "    val_losses = [x for (_, x, _) in losses_and_accs]\n",
        "    accs = [x for (_, _, x) in losses_and_accs]\n",
        "    plt.figure(figsize=(16, 8))\n",
        "    plt.subplot(1, 2, 1)\n",
        "    plt.plot(train_losses, label='Train Loss')\n",
        "    plt.plot(val_losses, label='Validation Loss')\n",
        "    plt.xlabel('Epoch')\n",
        "    plt.ylabel('Loss')\n",
        "    plt.title('Loss per Epoch')\n",
        "    plt.legend()\n",
        "    plt.subplot(1, 2, 2)\n",
        "    plt.plot(accs)\n",
        "    plt.xlabel('Epoch')\n",
        "    plt.ylabel('Validation Accuracy')\n",
        "    plt.title(f'Best Accuracy = {round(np.max(accs), 2)} @ epoch {np.argmax(accs)}')\n",
        "    plt.savefig(fig_path)"
      ]
    },
    {
      "cell_type": "code",
      "execution_count": 4,
      "id": "5cbe4b4c",
      "metadata": {
        "id": "5cbe4b4c"
      },
      "outputs": [],
      "source": [
        "def train(model, train_set, criterion, optimizer, batch_size, epochs, model_name, fig_path, device='cpu', fully_conv=False):\n",
        "    # Init Weights and Biases\n",
        "    wandb.init(project=\"dla_lab1\")\n",
        "\n",
        "    # Split train into train and validation.\n",
        "    train_size = int(0.9 * len(train_set))\n",
        "    val_size = len(train_set) - train_size\n",
        "    train_set, val_set = random_split(train_set, [train_size, val_size])\n",
        "\n",
        "    # Create data loaders.\n",
        "    dl_train = DataLoader(train_set, batch_size=batch_size, shuffle=True, drop_last=False, num_workers=0)\n",
        "    print(\"Training-Set Ready\")\n",
        "    dl_val = DataLoader(val_set, batch_size=batch_size, shuffle=False, drop_last=False, num_workers=0)\n",
        "    print(\"Validation-Set Ready\")\n",
        "\n",
        "    wandb.watch(model, log=\"all\")\n",
        "    model.to(device)\n",
        "    print(\"Starting Training...\")\n",
        "    losses_and_accs = []\n",
        "    max_val_acc = 0\n",
        "    min_val_loss = math.inf\n",
        "    early_stop_counter = 0\n",
        "    best_state_dict = None\n",
        "    for epoch in range(epochs):\n",
        "        # Train Epoch\n",
        "        train_loss = train_epoch(model, dl_train, criterion, optimizer, epoch, device, fully_conv)\n",
        "        # Evaluate Model\n",
        "        val_loss, val_acc, _ = evaluate_model(model, dl_val, criterion, device)\n",
        "\n",
        "        wandb.log({\"train_loss\": train_loss, \"val_loss\": val_loss, \"val_accuracy\": val_acc, \"epoch\": epoch})\n",
        "        losses_and_accs.append((train_loss, val_loss, val_acc))\n",
        "\n",
        "        # Pick best model\n",
        "        if val_acc > max_val_acc:\n",
        "            max_val_acc = val_acc\n",
        "            best_state_dict = model.state_dict()\n",
        "\n",
        "        #Early Stopping\n",
        "        if val_loss < min_val_loss:\n",
        "            min_val_loss = val_loss\n",
        "            early_stop_counter = 0\n",
        "        elif val_loss > (min_val_loss + 0.05):\n",
        "            early_stop_counter += 1\n",
        "        if early_stop_counter == 5:\n",
        "            break\n",
        "\n",
        "    wandb.unwatch()\n",
        "    plot_validation_curves(losses_and_accs, fig_path)\n",
        "    torch.save(best_state_dict, os.path.join('./trained_models/', model_name))"
      ]
    },
    {
      "cell_type": "code",
      "execution_count": 5,
      "id": "76e52881",
      "metadata": {
        "id": "76e52881"
      },
      "outputs": [],
      "source": [
        "def test(model, test_set, criterion, model_name, device='cpu'):\n",
        "    # Create data loader.\n",
        "    test_dl = DataLoader(test_set, batch_size=64, shuffle=False, num_workers=0)\n",
        "\n",
        "    # Load best model state dict\n",
        "    print(\"Loading model...\")\n",
        "    model.load_state_dict(torch.load(os.path.join('./trained_models/', model_name)))\n",
        "    model.to(device)\n",
        "    print(\"Model Loaded\")\n",
        "\n",
        "    _, test_acc, classification_report = evaluate_model(model, test_dl, criterion, device)\n",
        "    print(f'Test Accuracy: {test_acc}')\n",
        "    print(classification_report)"
      ]
    },
    {
      "cell_type": "markdown",
      "id": "875008c3-306c-4e39-a845-d7bda7862621",
      "metadata": {
        "id": "875008c3-306c-4e39-a845-d7bda7862621"
      },
      "source": [
        "#### A basic, parameterized MLP\n",
        "\n",
        "Here I use the suggested implementation of Mulilayer Perceptron. It sllows to pass in a list inpits, hidden layers and output *widths*."
      ]
    },
    {
      "cell_type": "code",
      "execution_count": 6,
      "id": "8c1e503a-37df-4fb9-94e7-85d0adb494bd",
      "metadata": {
        "id": "8c1e503a-37df-4fb9-94e7-85d0adb494bd",
        "tags": []
      },
      "outputs": [],
      "source": [
        "class MLP(nn.Module):\n",
        "    def __init__(self, dim=64):\n",
        "        super().__init__()\n",
        "        self.fc1 = nn.Linear(28*28, dim)\n",
        "        self.fc2 = nn.Linear(dim, dim*2)\n",
        "        self.fc3 = nn.Linear(dim*2, dim*4)\n",
        "        self.fc4 = nn.Linear(dim*4, dim*8)\n",
        "        self.fc5 = nn.Linear(dim*8, 10)\n",
        "\n",
        "    def forward(self, x):\n",
        "        x = torch.flatten(x, 1)\n",
        "        x = F.relu(self.fc1(x))\n",
        "        x = F.relu(self.fc2(x))\n",
        "        x = F.relu(self.fc3(x))\n",
        "        x = F.relu(self.fc4(x))\n",
        "        x = F.relu(self.fc5(x))\n",
        "        return x"
      ]
    },
    {
      "cell_type": "markdown",
      "id": "33cc12cc-8422-47bf-8d8e-0950ac05ae96",
      "metadata": {
        "id": "33cc12cc-8422-47bf-8d8e-0950ac05ae96"
      },
      "source": [
        "#### Data preparation\n",
        "In this section they are loaded train and test sets of MNIST data."
      ]
    },
    {
      "cell_type": "code",
      "execution_count": 6,
      "id": "272a69db-0416-444a-9be4-5f055ff48bbb",
      "metadata": {
        "colab": {
          "base_uri": "https://localhost:8080/"
        },
        "id": "272a69db-0416-444a-9be4-5f055ff48bbb",
        "outputId": "c04c35d7-960d-4ce5-dd6a-287474a02e8b",
        "tags": []
      },
      "outputs": [],
      "source": [
        "# Standard MNIST transform.\n",
        "transform = transforms.Compose([\n",
        "    transforms.ToTensor(),\n",
        "    transforms.Normalize((0.1307,), (0.3081,))\n",
        "])\n",
        "\n",
        "# Load MNIST train and test.\n",
        "train_set = MNIST(root='./data', train=True, download=True, transform=transform)\n",
        "test_set = MNIST(root='./data', train=False, download=True, transform=transform)"
      ]
    },
    {
      "cell_type": "markdown",
      "id": "3d24d207",
      "metadata": {
        "id": "3d24d207"
      },
      "source": [
        "#### Define Hyperparameters and Run Training\n",
        "In this cell they are defined the hyperparameters for network architecture and for the training process.\n",
        "They can be defined the model name (for saving) and the path for resulting plot."
      ]
    },
    {
      "cell_type": "code",
      "execution_count": 8,
      "id": "fc89e48f-d8f3-4122-842d-1ff389499854",
      "metadata": {
        "colab": {
          "base_uri": "https://localhost:8080/",
          "height": 1000,
          "referenced_widgets": [
            "36fe2e38b757408dabb1582a4a7e76a7",
            "26efce0f5ed14f00b1d1b06a439363db",
            "d2514ae71b53449fb0bebf0336fd5d9a",
            "3414426fdd32479e9af31d998a5cc355",
            "49ab1f8c33624e47a4528c71ad584700",
            "7dfd994e38054f38b5585dc691ac1111",
            "f49a356b7451480190ae4615addbd5e5",
            "03acbc2f669b4badbc72f6f1c328c55f"
          ]
        },
        "id": "fc89e48f-d8f3-4122-842d-1ff389499854",
        "outputId": "7674c037-06d3-4e6d-d699-2952de91f1c7",
        "tags": []
      },
      "outputs": [
        {
          "name": "stderr",
          "output_type": "stream",
          "text": [
            "Failed to detect the name of this notebook, you can set it manually with the WANDB_NOTEBOOK_NAME environment variable to enable code saving.\n",
            "wandb: Currently logged in as: thomasdelmoro. Use `wandb login --relogin` to force relogin\n"
          ]
        },
        {
          "data": {
            "text/html": [
              "Tracking run with wandb version 0.17.7"
            ],
            "text/plain": [
              "<IPython.core.display.HTML object>"
            ]
          },
          "metadata": {},
          "output_type": "display_data"
        },
        {
          "data": {
            "text/html": [
              "Run data is saved locally in <code>c:\\Users\\thoma\\Notebooks\\Lab1\\wandb\\run-20240824_130036-2r5yn7t0</code>"
            ],
            "text/plain": [
              "<IPython.core.display.HTML object>"
            ]
          },
          "metadata": {},
          "output_type": "display_data"
        },
        {
          "data": {
            "text/html": [
              "Syncing run <strong><a href='https://wandb.ai/thomasdelmoro/dla_lab1/runs/2r5yn7t0' target=\"_blank\">dulcet-field-52</a></strong> to <a href='https://wandb.ai/thomasdelmoro/dla_lab1' target=\"_blank\">Weights & Biases</a> (<a href='https://wandb.me/run' target=\"_blank\">docs</a>)<br/>"
            ],
            "text/plain": [
              "<IPython.core.display.HTML object>"
            ]
          },
          "metadata": {},
          "output_type": "display_data"
        },
        {
          "data": {
            "text/html": [
              " View project at <a href='https://wandb.ai/thomasdelmoro/dla_lab1' target=\"_blank\">https://wandb.ai/thomasdelmoro/dla_lab1</a>"
            ],
            "text/plain": [
              "<IPython.core.display.HTML object>"
            ]
          },
          "metadata": {},
          "output_type": "display_data"
        },
        {
          "data": {
            "text/html": [
              " View run at <a href='https://wandb.ai/thomasdelmoro/dla_lab1/runs/2r5yn7t0' target=\"_blank\">https://wandb.ai/thomasdelmoro/dla_lab1/runs/2r5yn7t0</a>"
            ],
            "text/plain": [
              "<IPython.core.display.HTML object>"
            ]
          },
          "metadata": {},
          "output_type": "display_data"
        },
        {
          "name": "stdout",
          "output_type": "stream",
          "text": [
            "Training-Set Ready\n",
            "Validation-Set Ready\n",
            "Starting Training...\n"
          ]
        },
        {
          "name": "stderr",
          "output_type": "stream",
          "text": [
            "Training epoch 0: 100%|██████████| 422/422 [00:18<00:00, 22.31it/s]\n",
            "Training epoch 1: 100%|██████████| 422/422 [00:21<00:00, 19.75it/s]\n",
            "Training epoch 2:  70%|██████▉   | 294/422 [00:14<00:06, 19.83it/s]\n"
          ]
        },
        {
          "ename": "KeyboardInterrupt",
          "evalue": "",
          "output_type": "error",
          "traceback": [
            "\u001b[1;31m---------------------------------------------------------------------------\u001b[0m",
            "\u001b[1;31mKeyboardInterrupt\u001b[0m                         Traceback (most recent call last)",
            "Cell \u001b[1;32mIn[8], line 15\u001b[0m\n\u001b[0;32m     12\u001b[0m fig_path \u001b[38;5;241m=\u001b[39m \u001b[38;5;124m'\u001b[39m\u001b[38;5;124mresults/mlp_mnist.png\u001b[39m\u001b[38;5;124m'\u001b[39m\n\u001b[0;32m     14\u001b[0m \u001b[38;5;66;03m# Training loop\u001b[39;00m\n\u001b[1;32m---> 15\u001b[0m \u001b[43mtrain\u001b[49m\u001b[43m(\u001b[49m\u001b[43mmodel_mlp\u001b[49m\u001b[43m,\u001b[49m\u001b[43m \u001b[49m\u001b[43mtrain_set\u001b[49m\u001b[43m,\u001b[49m\u001b[43m \u001b[49m\u001b[43mcriterion\u001b[49m\u001b[43m,\u001b[49m\u001b[43m \u001b[49m\u001b[43moptimizer\u001b[49m\u001b[43m,\u001b[49m\u001b[43m \u001b[49m\u001b[43mbatch_size\u001b[49m\u001b[43m,\u001b[49m\u001b[43m \u001b[49m\u001b[43mepochs\u001b[49m\u001b[43m,\u001b[49m\u001b[43m \u001b[49m\u001b[43mmodel_name\u001b[49m\u001b[43m,\u001b[49m\u001b[43m \u001b[49m\u001b[43mfig_path\u001b[49m\u001b[43m,\u001b[49m\u001b[43m \u001b[49m\u001b[43mdevice\u001b[49m\u001b[38;5;241;43m=\u001b[39;49m\u001b[43mdevice\u001b[49m\u001b[43m)\u001b[49m\n\u001b[0;32m     17\u001b[0m \u001b[38;5;66;03m# Test model on test set\u001b[39;00m\n\u001b[0;32m     18\u001b[0m test(model_mlp, test_set, criterion, \u001b[38;5;124m'\u001b[39m\u001b[38;5;124mmlp_mnist.pth\u001b[39m\u001b[38;5;124m'\u001b[39m, device\u001b[38;5;241m=\u001b[39mdevice)\n",
            "Cell \u001b[1;32mIn[4], line 26\u001b[0m, in \u001b[0;36mtrain\u001b[1;34m(model, train_set, criterion, optimizer, batch_size, epochs, model_name, fig_path, device, fully_conv)\u001b[0m\n\u001b[0;32m     23\u001b[0m best_state_dict \u001b[38;5;241m=\u001b[39m \u001b[38;5;28;01mNone\u001b[39;00m\n\u001b[0;32m     24\u001b[0m \u001b[38;5;28;01mfor\u001b[39;00m epoch \u001b[38;5;129;01min\u001b[39;00m \u001b[38;5;28mrange\u001b[39m(epochs):\n\u001b[0;32m     25\u001b[0m     \u001b[38;5;66;03m# Train Epoch\u001b[39;00m\n\u001b[1;32m---> 26\u001b[0m     train_loss \u001b[38;5;241m=\u001b[39m \u001b[43mtrain_epoch\u001b[49m\u001b[43m(\u001b[49m\u001b[43mmodel\u001b[49m\u001b[43m,\u001b[49m\u001b[43m \u001b[49m\u001b[43mdl_train\u001b[49m\u001b[43m,\u001b[49m\u001b[43m \u001b[49m\u001b[43mcriterion\u001b[49m\u001b[43m,\u001b[49m\u001b[43m \u001b[49m\u001b[43moptimizer\u001b[49m\u001b[43m,\u001b[49m\u001b[43m \u001b[49m\u001b[43mepoch\u001b[49m\u001b[43m,\u001b[49m\u001b[43m \u001b[49m\u001b[43mdevice\u001b[49m\u001b[43m,\u001b[49m\u001b[43m \u001b[49m\u001b[43mfully_conv\u001b[49m\u001b[43m)\u001b[49m\n\u001b[0;32m     27\u001b[0m     \u001b[38;5;66;03m# Evaluate Model\u001b[39;00m\n\u001b[0;32m     28\u001b[0m     val_loss, val_acc, _ \u001b[38;5;241m=\u001b[39m evaluate_model(model, dl_val, criterion, device)\n",
            "Cell \u001b[1;32mIn[3], line 4\u001b[0m, in \u001b[0;36mtrain_epoch\u001b[1;34m(model, dataloader, criterion, optimizer, epoch, device, fully_conv)\u001b[0m\n\u001b[0;32m      2\u001b[0m model\u001b[38;5;241m.\u001b[39mtrain()\n\u001b[0;32m      3\u001b[0m losses \u001b[38;5;241m=\u001b[39m []\n\u001b[1;32m----> 4\u001b[0m \u001b[43m\u001b[49m\u001b[38;5;28;43;01mfor\u001b[39;49;00m\u001b[43m \u001b[49m\u001b[43m(\u001b[49m\u001b[43minputs\u001b[49m\u001b[43m,\u001b[49m\u001b[43m \u001b[49m\u001b[43mlabels\u001b[49m\u001b[43m)\u001b[49m\u001b[43m \u001b[49m\u001b[38;5;129;43;01min\u001b[39;49;00m\u001b[43m \u001b[49m\u001b[43mtqdm\u001b[49m\u001b[43m(\u001b[49m\u001b[43mdataloader\u001b[49m\u001b[43m,\u001b[49m\u001b[43m \u001b[49m\u001b[43mdesc\u001b[49m\u001b[38;5;241;43m=\u001b[39;49m\u001b[38;5;124;43mf\u001b[39;49m\u001b[38;5;124;43m'\u001b[39;49m\u001b[38;5;124;43mTraining epoch \u001b[39;49m\u001b[38;5;132;43;01m{\u001b[39;49;00m\u001b[43mepoch\u001b[49m\u001b[38;5;132;43;01m}\u001b[39;49;00m\u001b[38;5;124;43m'\u001b[39;49m\u001b[43m,\u001b[49m\u001b[43m \u001b[49m\u001b[43mleave\u001b[49m\u001b[38;5;241;43m=\u001b[39;49m\u001b[38;5;28;43;01mTrue\u001b[39;49;00m\u001b[43m)\u001b[49m\u001b[43m:\u001b[49m\n\u001b[0;32m      5\u001b[0m \u001b[43m    \u001b[49m\u001b[43minputs\u001b[49m\u001b[43m,\u001b[49m\u001b[43m \u001b[49m\u001b[43mlabels\u001b[49m\u001b[43m \u001b[49m\u001b[38;5;241;43m=\u001b[39;49m\u001b[43m \u001b[49m\u001b[43minputs\u001b[49m\u001b[38;5;241;43m.\u001b[39;49m\u001b[43mto\u001b[49m\u001b[43m(\u001b[49m\u001b[43mdevice\u001b[49m\u001b[43m)\u001b[49m\u001b[43m,\u001b[49m\u001b[43m \u001b[49m\u001b[43mlabels\u001b[49m\u001b[38;5;241;43m.\u001b[39;49m\u001b[43mto\u001b[49m\u001b[43m(\u001b[49m\u001b[43mdevice\u001b[49m\u001b[43m)\u001b[49m\n\u001b[0;32m      6\u001b[0m \u001b[43m    \u001b[49m\u001b[43moptimizer\u001b[49m\u001b[38;5;241;43m.\u001b[39;49m\u001b[43mzero_grad\u001b[49m\u001b[43m(\u001b[49m\u001b[43m)\u001b[49m\n",
            "File \u001b[1;32mc:\\Users\\thoma\\AppData\\Local\\miniconda3\\envs\\pytorch_env\\Lib\\site-packages\\tqdm\\std.py:1178\u001b[0m, in \u001b[0;36mtqdm.__iter__\u001b[1;34m(self)\u001b[0m\n\u001b[0;32m   1175\u001b[0m time \u001b[38;5;241m=\u001b[39m \u001b[38;5;28mself\u001b[39m\u001b[38;5;241m.\u001b[39m_time\n\u001b[0;32m   1177\u001b[0m \u001b[38;5;28;01mtry\u001b[39;00m:\n\u001b[1;32m-> 1178\u001b[0m \u001b[43m    \u001b[49m\u001b[38;5;28;43;01mfor\u001b[39;49;00m\u001b[43m \u001b[49m\u001b[43mobj\u001b[49m\u001b[43m \u001b[49m\u001b[38;5;129;43;01min\u001b[39;49;00m\u001b[43m \u001b[49m\u001b[43miterable\u001b[49m\u001b[43m:\u001b[49m\n\u001b[0;32m   1179\u001b[0m \u001b[43m        \u001b[49m\u001b[38;5;28;43;01myield\u001b[39;49;00m\u001b[43m \u001b[49m\u001b[43mobj\u001b[49m\n\u001b[0;32m   1180\u001b[0m \u001b[43m        \u001b[49m\u001b[38;5;66;43;03m# Update and possibly print the progressbar.\u001b[39;49;00m\n\u001b[0;32m   1181\u001b[0m \u001b[43m        \u001b[49m\u001b[38;5;66;43;03m# Note: does not call self.update(1) for speed optimisation.\u001b[39;49;00m\n",
            "File \u001b[1;32mc:\\Users\\thoma\\AppData\\Local\\miniconda3\\envs\\pytorch_env\\Lib\\site-packages\\torch\\utils\\data\\dataloader.py:630\u001b[0m, in \u001b[0;36m_BaseDataLoaderIter.__next__\u001b[1;34m(self)\u001b[0m\n\u001b[0;32m    627\u001b[0m \u001b[38;5;28;01mif\u001b[39;00m \u001b[38;5;28mself\u001b[39m\u001b[38;5;241m.\u001b[39m_sampler_iter \u001b[38;5;129;01mis\u001b[39;00m \u001b[38;5;28;01mNone\u001b[39;00m:\n\u001b[0;32m    628\u001b[0m     \u001b[38;5;66;03m# TODO(https://github.com/pytorch/pytorch/issues/76750)\u001b[39;00m\n\u001b[0;32m    629\u001b[0m     \u001b[38;5;28mself\u001b[39m\u001b[38;5;241m.\u001b[39m_reset()  \u001b[38;5;66;03m# type: ignore[call-arg]\u001b[39;00m\n\u001b[1;32m--> 630\u001b[0m data \u001b[38;5;241m=\u001b[39m \u001b[38;5;28;43mself\u001b[39;49m\u001b[38;5;241;43m.\u001b[39;49m\u001b[43m_next_data\u001b[49m\u001b[43m(\u001b[49m\u001b[43m)\u001b[49m\n\u001b[0;32m    631\u001b[0m \u001b[38;5;28mself\u001b[39m\u001b[38;5;241m.\u001b[39m_num_yielded \u001b[38;5;241m+\u001b[39m\u001b[38;5;241m=\u001b[39m \u001b[38;5;241m1\u001b[39m\n\u001b[0;32m    632\u001b[0m \u001b[38;5;28;01mif\u001b[39;00m \u001b[38;5;28mself\u001b[39m\u001b[38;5;241m.\u001b[39m_dataset_kind \u001b[38;5;241m==\u001b[39m _DatasetKind\u001b[38;5;241m.\u001b[39mIterable \u001b[38;5;129;01mand\u001b[39;00m \\\n\u001b[0;32m    633\u001b[0m         \u001b[38;5;28mself\u001b[39m\u001b[38;5;241m.\u001b[39m_IterableDataset_len_called \u001b[38;5;129;01mis\u001b[39;00m \u001b[38;5;129;01mnot\u001b[39;00m \u001b[38;5;28;01mNone\u001b[39;00m \u001b[38;5;129;01mand\u001b[39;00m \\\n\u001b[0;32m    634\u001b[0m         \u001b[38;5;28mself\u001b[39m\u001b[38;5;241m.\u001b[39m_num_yielded \u001b[38;5;241m>\u001b[39m \u001b[38;5;28mself\u001b[39m\u001b[38;5;241m.\u001b[39m_IterableDataset_len_called:\n",
            "File \u001b[1;32mc:\\Users\\thoma\\AppData\\Local\\miniconda3\\envs\\pytorch_env\\Lib\\site-packages\\torch\\utils\\data\\dataloader.py:674\u001b[0m, in \u001b[0;36m_SingleProcessDataLoaderIter._next_data\u001b[1;34m(self)\u001b[0m\n\u001b[0;32m    672\u001b[0m \u001b[38;5;28;01mdef\u001b[39;00m \u001b[38;5;21m_next_data\u001b[39m(\u001b[38;5;28mself\u001b[39m):\n\u001b[0;32m    673\u001b[0m     index \u001b[38;5;241m=\u001b[39m \u001b[38;5;28mself\u001b[39m\u001b[38;5;241m.\u001b[39m_next_index()  \u001b[38;5;66;03m# may raise StopIteration\u001b[39;00m\n\u001b[1;32m--> 674\u001b[0m     data \u001b[38;5;241m=\u001b[39m \u001b[38;5;28;43mself\u001b[39;49m\u001b[38;5;241;43m.\u001b[39;49m\u001b[43m_dataset_fetcher\u001b[49m\u001b[38;5;241;43m.\u001b[39;49m\u001b[43mfetch\u001b[49m\u001b[43m(\u001b[49m\u001b[43mindex\u001b[49m\u001b[43m)\u001b[49m  \u001b[38;5;66;03m# may raise StopIteration\u001b[39;00m\n\u001b[0;32m    675\u001b[0m     \u001b[38;5;28;01mif\u001b[39;00m \u001b[38;5;28mself\u001b[39m\u001b[38;5;241m.\u001b[39m_pin_memory:\n\u001b[0;32m    676\u001b[0m         data \u001b[38;5;241m=\u001b[39m _utils\u001b[38;5;241m.\u001b[39mpin_memory\u001b[38;5;241m.\u001b[39mpin_memory(data, \u001b[38;5;28mself\u001b[39m\u001b[38;5;241m.\u001b[39m_pin_memory_device)\n",
            "File \u001b[1;32mc:\\Users\\thoma\\AppData\\Local\\miniconda3\\envs\\pytorch_env\\Lib\\site-packages\\torch\\utils\\data\\_utils\\fetch.py:49\u001b[0m, in \u001b[0;36m_MapDatasetFetcher.fetch\u001b[1;34m(self, possibly_batched_index)\u001b[0m\n\u001b[0;32m     47\u001b[0m \u001b[38;5;28;01mif\u001b[39;00m \u001b[38;5;28mself\u001b[39m\u001b[38;5;241m.\u001b[39mauto_collation:\n\u001b[0;32m     48\u001b[0m     \u001b[38;5;28;01mif\u001b[39;00m \u001b[38;5;28mhasattr\u001b[39m(\u001b[38;5;28mself\u001b[39m\u001b[38;5;241m.\u001b[39mdataset, \u001b[38;5;124m\"\u001b[39m\u001b[38;5;124m__getitems__\u001b[39m\u001b[38;5;124m\"\u001b[39m) \u001b[38;5;129;01mand\u001b[39;00m \u001b[38;5;28mself\u001b[39m\u001b[38;5;241m.\u001b[39mdataset\u001b[38;5;241m.\u001b[39m__getitems__:\n\u001b[1;32m---> 49\u001b[0m         data \u001b[38;5;241m=\u001b[39m \u001b[38;5;28;43mself\u001b[39;49m\u001b[38;5;241;43m.\u001b[39;49m\u001b[43mdataset\u001b[49m\u001b[38;5;241;43m.\u001b[39;49m\u001b[43m__getitems__\u001b[49m\u001b[43m(\u001b[49m\u001b[43mpossibly_batched_index\u001b[49m\u001b[43m)\u001b[49m\n\u001b[0;32m     50\u001b[0m     \u001b[38;5;28;01melse\u001b[39;00m:\n\u001b[0;32m     51\u001b[0m         data \u001b[38;5;241m=\u001b[39m [\u001b[38;5;28mself\u001b[39m\u001b[38;5;241m.\u001b[39mdataset[idx] \u001b[38;5;28;01mfor\u001b[39;00m idx \u001b[38;5;129;01min\u001b[39;00m possibly_batched_index]\n",
            "File \u001b[1;32mc:\\Users\\thoma\\AppData\\Local\\miniconda3\\envs\\pytorch_env\\Lib\\site-packages\\torch\\utils\\data\\dataset.py:364\u001b[0m, in \u001b[0;36mSubset.__getitems__\u001b[1;34m(self, indices)\u001b[0m\n\u001b[0;32m    362\u001b[0m     \u001b[38;5;28;01mreturn\u001b[39;00m \u001b[38;5;28mself\u001b[39m\u001b[38;5;241m.\u001b[39mdataset\u001b[38;5;241m.\u001b[39m__getitems__([\u001b[38;5;28mself\u001b[39m\u001b[38;5;241m.\u001b[39mindices[idx] \u001b[38;5;28;01mfor\u001b[39;00m idx \u001b[38;5;129;01min\u001b[39;00m indices])  \u001b[38;5;66;03m# type: ignore[attr-defined]\u001b[39;00m\n\u001b[0;32m    363\u001b[0m \u001b[38;5;28;01melse\u001b[39;00m:\n\u001b[1;32m--> 364\u001b[0m     \u001b[38;5;28;01mreturn\u001b[39;00m \u001b[43m[\u001b[49m\u001b[38;5;28;43mself\u001b[39;49m\u001b[38;5;241;43m.\u001b[39;49m\u001b[43mdataset\u001b[49m\u001b[43m[\u001b[49m\u001b[38;5;28;43mself\u001b[39;49m\u001b[38;5;241;43m.\u001b[39;49m\u001b[43mindices\u001b[49m\u001b[43m[\u001b[49m\u001b[43midx\u001b[49m\u001b[43m]\u001b[49m\u001b[43m]\u001b[49m\u001b[43m \u001b[49m\u001b[38;5;28;43;01mfor\u001b[39;49;00m\u001b[43m \u001b[49m\u001b[43midx\u001b[49m\u001b[43m \u001b[49m\u001b[38;5;129;43;01min\u001b[39;49;00m\u001b[43m \u001b[49m\u001b[43mindices\u001b[49m\u001b[43m]\u001b[49m\n",
            "File \u001b[1;32mc:\\Users\\thoma\\AppData\\Local\\miniconda3\\envs\\pytorch_env\\Lib\\site-packages\\torch\\utils\\data\\dataset.py:364\u001b[0m, in \u001b[0;36m<listcomp>\u001b[1;34m(.0)\u001b[0m\n\u001b[0;32m    362\u001b[0m     \u001b[38;5;28;01mreturn\u001b[39;00m \u001b[38;5;28mself\u001b[39m\u001b[38;5;241m.\u001b[39mdataset\u001b[38;5;241m.\u001b[39m__getitems__([\u001b[38;5;28mself\u001b[39m\u001b[38;5;241m.\u001b[39mindices[idx] \u001b[38;5;28;01mfor\u001b[39;00m idx \u001b[38;5;129;01min\u001b[39;00m indices])  \u001b[38;5;66;03m# type: ignore[attr-defined]\u001b[39;00m\n\u001b[0;32m    363\u001b[0m \u001b[38;5;28;01melse\u001b[39;00m:\n\u001b[1;32m--> 364\u001b[0m     \u001b[38;5;28;01mreturn\u001b[39;00m [\u001b[38;5;28mself\u001b[39m\u001b[38;5;241m.\u001b[39mdataset[\u001b[38;5;28mself\u001b[39m\u001b[38;5;241m.\u001b[39mindices[idx]] \u001b[38;5;28;01mfor\u001b[39;00m idx \u001b[38;5;129;01min\u001b[39;00m indices]\n",
            "\u001b[1;31mKeyboardInterrupt\u001b[0m: "
          ]
        }
      ],
      "source": [
        "# Training hyperparameters.\n",
        "epochs = 20\n",
        "batch_size = 128\n",
        "lr = 0.0001\n",
        "\n",
        "# Instantiate model and optimizer\n",
        "model_mlp = MLP()\n",
        "criterion = nn.CrossEntropyLoss()\n",
        "optimizer = torch.optim.Adam(params=model_mlp.parameters(), lr=lr)\n",
        "\n",
        "model_name = 'mlp_mnist.pth'\n",
        "fig_path = 'results/mlp_mnist.png'\n",
        "\n",
        "# Training loop\n",
        "train(model_mlp, train_set, criterion, optimizer, batch_size, epochs, model_name, fig_path, device=device)\n",
        "\n",
        "# Test model on test set\n",
        "test(model_mlp, test_set, criterion, 'mlp_mnist.pth', device=device)"
      ]
    },
    {
      "cell_type": "markdown",
      "id": "0fb8ad9b-e3ae-4c49-9bec-35aaea149b08",
      "metadata": {
        "id": "0fb8ad9b-e3ae-4c49-9bec-35aaea149b08"
      },
      "source": [
        "## Exercise 1.2: Rinse and Repeat\n",
        "\n",
        "Repeat the verification you did above, but with **Convolutional** Neural Networks. If you were careful about abstracting your model and training code, this should be a simple exercise. Show that **deeper** CNNs *without* residual connections do not always work better and **even deeper** ones *with* residual connections.\n",
        "\n",
        "**Hint**: You probably should do this exercise using CIFAR10, since MNIST is *very* easy (at least up to about 99% accuracy).\n",
        "\n",
        "**Spoiler**: If you plan to do optional exercise 2.3, you should think *very* carefully about the architectures of your CNNs here (so you can reuse them!)."
      ]
    },
    {
      "cell_type": "markdown",
      "id": "0d881e9f",
      "metadata": {
        "id": "0d881e9f"
      },
      "source": [
        "#### Data Preparation"
      ]
    },
    {
      "cell_type": "code",
      "execution_count": null,
      "id": "a4dcc7ca",
      "metadata": {
        "colab": {
          "base_uri": "https://localhost:8080/"
        },
        "id": "a4dcc7ca",
        "outputId": "e83fe1e4-250e-453c-b664-2418925715ef"
      },
      "outputs": [
        {
          "name": "stdout",
          "output_type": "stream",
          "text": [
            "Files already downloaded and verified\n",
            "Files already downloaded and verified\n"
          ]
        }
      ],
      "source": [
        "# These lines solve an SSL issue with the CIFAR10 dataset.\n",
        "import ssl\n",
        "ssl._create_default_https_context = ssl._create_unverified_context\n",
        "\n",
        "# Standard CIFAR10 transform.\n",
        "transform = transforms.Compose([\n",
        "    transforms.ToTensor(),\n",
        "    transforms.Normalize((0.4914, 0.4822, 0.4465), (0.247, 0.243, 0.261))\n",
        "])\n",
        "\n",
        "# Load CIFAR10 train and test.\n",
        "train_set = CIFAR10(root='./data', train=True, download=True, transform=transform)\n",
        "test_set = CIFAR10(root='./data', train=False, download=True, transform=transform)\n",
        "\n",
        "num_classes = 10\n",
        "input_channels = 3"
      ]
    },
    {
      "cell_type": "markdown",
      "id": "e378315c",
      "metadata": {
        "id": "e378315c"
      },
      "source": [
        "#### Architecture"
      ]
    },
    {
      "cell_type": "markdown",
      "id": "QkPzpMmDejXK",
      "metadata": {
        "id": "QkPzpMmDejXK"
      },
      "source": [
        "In this section I try to implement the original ResNet18 architecture, leaving a flag indicating the use or not use of skip connections, in order to quantify the differences in performance between the two architectural choices."
      ]
    },
    {
      "cell_type": "code",
      "execution_count": null,
      "id": "v8fuBG80hrEg",
      "metadata": {
        "id": "v8fuBG80hrEg",
        "tags": []
      },
      "outputs": [],
      "source": [
        "class MLP(nn.Module):\n",
        "    def __init__(self, input_dim, input_channels, dim=64):\n",
        "        super().__init__()\n",
        "        self.input_dim = input_dim\n",
        "        self.input_channels = input_channels\n",
        "        self.fc1 = nn.Linear(self.input_dim*self.input_dim*self.input_channels, dim*8)\n",
        "        self.fc2 = nn.Linear(dim*8, dim*4)\n",
        "        self.fc3 = nn.Linear(dim*4, dim*2)\n",
        "        self.fc4 = nn.Linear(dim*2, dim)\n",
        "        self.fc5 = nn.Linear(dim, 10)\n",
        "\n",
        "    def forward(self, x):\n",
        "        x = torch.flatten(x, 1)\n",
        "        x = F.relu(self.fc1(x))\n",
        "        x = F.relu(self.fc2(x))\n",
        "        x = F.relu(self.fc3(x))\n",
        "        x = F.relu(self.fc4(x))\n",
        "        x = F.relu(self.fc5(x))\n",
        "        return x"
      ]
    },
    {
      "cell_type": "code",
      "execution_count": 7,
      "id": "uIx6UO6ReZR5",
      "metadata": {
        "id": "uIx6UO6ReZR5"
      },
      "outputs": [],
      "source": [
        "class ResidualBlock(nn.Module):\n",
        "    def __init__(self, in_channels, out_channels, stride=1, skip_connection=True):\n",
        "        super(ResidualBlock, self).__init__()\n",
        "        self.skip_connection = skip_connection\n",
        "\n",
        "        self.block = nn.Sequential(\n",
        "            nn.Conv2d(in_channels, out_channels, kernel_size=3, stride=stride, padding=1, bias=False),\n",
        "            nn.BatchNorm2d(out_channels),\n",
        "            nn.ReLU(inplace=True),\n",
        "            nn.Conv2d(out_channels, out_channels, kernel_size=3, stride=1, padding=1, bias=False),\n",
        "            nn.BatchNorm2d(out_channels),\n",
        "        )\n",
        "\n",
        "        self.shortcut = nn.Sequential()\n",
        "        if stride != 1 or in_channels != out_channels:\n",
        "            self.shortcut = nn.Sequential(\n",
        "                nn.Conv2d(in_channels, out_channels, kernel_size=1, stride=stride, bias=False),\n",
        "                nn.BatchNorm2d(out_channels),\n",
        "            )\n",
        "\n",
        "    def forward(self, x):\n",
        "        out = self.block(x)\n",
        "        if self.skip_connection:\n",
        "            out += self.shortcut(x)\n",
        "        out = F.relu(out)\n",
        "        return out\n",
        "\n",
        "\n",
        "class ResNet(nn.Module):\n",
        "    def __init__(self, num_blocks, num_classes, channels=3, skip_connection=True):\n",
        "        super(ResNet, self).__init__()\n",
        "        self.in_channels = 64\n",
        "        self.num_classes = num_classes\n",
        "        self.skip_connection = skip_connection\n",
        "\n",
        "        self.conv = nn.Sequential(\n",
        "            nn.Conv2d(channels, 64, kernel_size=3, stride=1, padding=1, bias=False),\n",
        "            nn.BatchNorm2d(64),\n",
        "            nn.ReLU(inplace=True),\n",
        "        )\n",
        "\n",
        "        self.layers = nn.Sequential(\n",
        "            self._make_layer(ResidualBlock, 64, num_blocks[0], stride=1, skip_connection=skip_connection),\n",
        "            self._make_layer(ResidualBlock, 128, num_blocks[1], stride=2, skip_connection=skip_connection),\n",
        "            self._make_layer(ResidualBlock, 256, num_blocks[2], stride=2, skip_connection=skip_connection),\n",
        "            self._make_layer(ResidualBlock, 512, num_blocks[3], stride=2, skip_connection=skip_connection),\n",
        "        )\n",
        "\n",
        "        self.pooling = nn.AdaptiveAvgPool2d((1, 1))\n",
        "\n",
        "        self.fc = nn.Linear(512, num_classes)\n",
        "\n",
        "    def _make_layer(self, block, out_channels, num_blocks, stride, skip_connection=True):\n",
        "        # [stride, 1, 1, ...] (num_blocks times) ensures that the first block has stride=stride\n",
        "        strides = [stride] + [1]*(num_blocks-1)\n",
        "        layers = []\n",
        "        for stride in strides:\n",
        "            layers.append(block(self.in_channels, out_channels, stride, skip_connection=skip_connection))\n",
        "            self.in_channels = out_channels\n",
        "        return nn.Sequential(*layers)\n",
        "\n",
        "    def forward(self, x):\n",
        "        \"\"\"\n",
        "        conv:    [batch_size, channels, 32, 32] -> [batch_size, 64, 32, 32]\n",
        "        layer1:  [batch_size, 64, 32, 32] -> [batch_size, 64, 32, 32] (stride=1)\n",
        "        layer2:  [batch_size, 64, 32, 32] -> [batch_size, 128, 16, 16] (stride=2)\n",
        "        layer3:  [batch_size, 128, 16, 16] -> [batch_size, 256, 8, 8] (stride=2)\n",
        "        layer4:  [batch_size, 256, 8, 8] -> [batch_size, 512, 4, 4] (stride=2)\n",
        "        pooling: [batch_size, 512, 4, 4] -> [batch_size, 512, 1, 1] (avg_pool2d)\n",
        "        resize:  [batch_size, 512, 1, 1] -> [batch_size, 512]\n",
        "        fc:      [batch_size, 512] -> [batch_size, num_classes]\n",
        "        \"\"\"\n",
        "        x = self.conv(x)\n",
        "        x = self.layers(x)\n",
        "        x = self.pooling(x)\n",
        "        x = x.view(x.size(0), -1)\n",
        "        x = self.fc(x)\n",
        "        return x"
      ]
    },
    {
      "cell_type": "markdown",
      "id": "b051fa43",
      "metadata": {
        "id": "b051fa43"
      },
      "source": [
        "#### Define Hyperparameters and Run Training"
      ]
    },
    {
      "cell_type": "code",
      "execution_count": null,
      "id": "09ac67b6",
      "metadata": {
        "collapsed": true,
        "id": "09ac67b6"
      },
      "outputs": [],
      "source": [
        "# Training hyperparameters.\n",
        "epochs = 25\n",
        "batch_size = 64\n",
        "lr = 0.0001\n",
        "\n",
        "# Instantiate models and optimizer\n",
        "criterion = nn.CrossEntropyLoss()\n",
        "\n",
        "mlp = MLP(32, 3)\n",
        "optimizer_mlp = torch.optim.SGD(params=mlp.parameters(), lr=lr, momentum=0.9)\n",
        "\n",
        "convnet = ResNet([2, 2, 2, 2], 10, 3, skip_connection=False)\n",
        "optimizer_convnet = torch.optim.SGD(params=convnet.parameters(), lr=lr, momentum=0.9)\n",
        "\n",
        "resnet = ResNet([2, 2, 2, 2], 10, 3, skip_connection=True)\n",
        "optimizer_resnet = torch.optim.SGD(params=resnet.parameters(), lr=lr, momentum=0.9)\n"
      ]
    },
    {
      "cell_type": "code",
      "execution_count": 39,
      "id": "oqAVEP20jlR6",
      "metadata": {
        "colab": {
          "base_uri": "https://localhost:8080/",
          "height": 877,
          "referenced_widgets": [
            "41a9bb2be9ce4e86be05a0fc5e546e80",
            "7fe2f5d1329b48169e9f719401a58d89",
            "3f939c509bd542559ba8b567f5b512aa",
            "2f3c8974be534a79b3fbd6aa88fd96aa",
            "54c0e0475a8f4101a317c6bbd02a9ae5",
            "6db161176be549a9812408fba0a1047f",
            "9e50fbbf1bc74ba38943c0eaa4e8261e",
            "523a01720ce1467c9d8dbee025187ecc"
          ]
        },
        "id": "oqAVEP20jlR6",
        "outputId": "a93f9df9-07fe-4ee0-884a-d7df7155a13c"
      },
      "outputs": [
        {
          "data": {
            "text/html": [
              "Finishing last run (ID:q7j3c766) before initializing another..."
            ],
            "text/plain": [
              "<IPython.core.display.HTML object>"
            ]
          },
          "metadata": {},
          "output_type": "display_data"
        },
        {
          "data": {
            "application/vnd.jupyter.widget-view+json": {
              "model_id": "41a9bb2be9ce4e86be05a0fc5e546e80",
              "version_major": 2,
              "version_minor": 0
            },
            "text/plain": [
              "VBox(children=(Label(value='0.001 MB of 0.001 MB uploaded\\r'), FloatProgress(value=1.0, max=1.0)))"
            ]
          },
          "metadata": {},
          "output_type": "display_data"
        },
        {
          "data": {
            "text/html": [
              " View run <strong style=\"color:#cdcd00\">blooming-thunder-37</strong> at: <a href='https://wandb.ai/thomasdelmoro/dla_lab1/runs/q7j3c766' target=\"_blank\">https://wandb.ai/thomasdelmoro/dla_lab1/runs/q7j3c766</a><br/> View project at: <a href='https://wandb.ai/thomasdelmoro/dla_lab1' target=\"_blank\">https://wandb.ai/thomasdelmoro/dla_lab1</a><br/>Synced 5 W&B file(s), 0 media file(s), 0 artifact file(s) and 0 other file(s)"
            ],
            "text/plain": [
              "<IPython.core.display.HTML object>"
            ]
          },
          "metadata": {},
          "output_type": "display_data"
        },
        {
          "data": {
            "text/html": [
              "Find logs at: <code>./wandb/run-20240823_151920-q7j3c766/logs</code>"
            ],
            "text/plain": [
              "<IPython.core.display.HTML object>"
            ]
          },
          "metadata": {},
          "output_type": "display_data"
        },
        {
          "data": {
            "text/html": [
              "The new W&B backend becomes opt-out in version 0.18.0; try it out with `wandb.require(\"core\")`! See https://wandb.me/wandb-core for more information."
            ],
            "text/plain": [
              "<IPython.core.display.HTML object>"
            ]
          },
          "metadata": {},
          "output_type": "display_data"
        },
        {
          "data": {
            "text/html": [
              "Successfully finished last run (ID:q7j3c766). Initializing new run:<br/>"
            ],
            "text/plain": [
              "<IPython.core.display.HTML object>"
            ]
          },
          "metadata": {},
          "output_type": "display_data"
        },
        {
          "data": {
            "text/html": [
              "Tracking run with wandb version 0.17.7"
            ],
            "text/plain": [
              "<IPython.core.display.HTML object>"
            ]
          },
          "metadata": {},
          "output_type": "display_data"
        },
        {
          "data": {
            "text/html": [
              "Run data is saved locally in <code>/content/wandb/run-20240823_152109-3cm7fino</code>"
            ],
            "text/plain": [
              "<IPython.core.display.HTML object>"
            ]
          },
          "metadata": {},
          "output_type": "display_data"
        },
        {
          "data": {
            "text/html": [
              "Syncing run <strong><a href='https://wandb.ai/thomasdelmoro/dla_lab1/runs/3cm7fino' target=\"_blank\">fresh-pine-38</a></strong> to <a href='https://wandb.ai/thomasdelmoro/dla_lab1' target=\"_blank\">Weights & Biases</a> (<a href='https://wandb.me/run' target=\"_blank\">docs</a>)<br/>"
            ],
            "text/plain": [
              "<IPython.core.display.HTML object>"
            ]
          },
          "metadata": {},
          "output_type": "display_data"
        },
        {
          "data": {
            "text/html": [
              " View project at <a href='https://wandb.ai/thomasdelmoro/dla_lab1' target=\"_blank\">https://wandb.ai/thomasdelmoro/dla_lab1</a>"
            ],
            "text/plain": [
              "<IPython.core.display.HTML object>"
            ]
          },
          "metadata": {},
          "output_type": "display_data"
        },
        {
          "data": {
            "text/html": [
              " View run at <a href='https://wandb.ai/thomasdelmoro/dla_lab1/runs/3cm7fino' target=\"_blank\">https://wandb.ai/thomasdelmoro/dla_lab1/runs/3cm7fino</a>"
            ],
            "text/plain": [
              "<IPython.core.display.HTML object>"
            ]
          },
          "metadata": {},
          "output_type": "display_data"
        },
        {
          "name": "stdout",
          "output_type": "stream",
          "text": [
            "Training-Set Ready\n",
            "Validation-Set Ready\n",
            "Starting Training...\n"
          ]
        },
        {
          "name": "stderr",
          "output_type": "stream",
          "text": [
            "Training epoch 0: 100%|██████████| 704/704 [00:13<00:00, 52.85it/s]\n",
            "Training epoch 1: 100%|██████████| 704/704 [00:13<00:00, 51.58it/s]\n",
            "Training epoch 2: 100%|██████████| 704/704 [00:14<00:00, 50.12it/s]\n",
            "Training epoch 3: 100%|██████████| 704/704 [00:13<00:00, 51.00it/s]\n",
            "Training epoch 4: 100%|██████████| 704/704 [00:13<00:00, 52.09it/s]\n",
            "Training epoch 5: 100%|██████████| 704/704 [00:13<00:00, 50.36it/s]\n",
            "Training epoch 6: 100%|██████████| 704/704 [00:13<00:00, 50.51it/s]\n",
            "Training epoch 7: 100%|██████████| 704/704 [00:13<00:00, 50.71it/s]\n",
            "Training epoch 8: 100%|██████████| 704/704 [00:13<00:00, 51.43it/s]\n",
            "Training epoch 9: 100%|██████████| 704/704 [00:13<00:00, 50.93it/s]\n",
            "Training epoch 10: 100%|██████████| 704/704 [00:14<00:00, 48.63it/s]\n",
            "Training epoch 11: 100%|██████████| 704/704 [00:13<00:00, 51.88it/s]\n",
            "Training epoch 12: 100%|██████████| 704/704 [00:13<00:00, 51.57it/s]\n",
            "Training epoch 13:  66%|██████▌   | 465/704 [00:09<00:04, 49.50it/s]\n"
          ]
        },
        {
          "ename": "KeyboardInterrupt",
          "evalue": "",
          "output_type": "error",
          "traceback": [
            "\u001b[0;31m---------------------------------------------------------------------------\u001b[0m",
            "\u001b[0;31mKeyboardInterrupt\u001b[0m                         Traceback (most recent call last)",
            "\u001b[0;32m<ipython-input-39-c2c200caa07c>\u001b[0m in \u001b[0;36m<cell line: 5>\u001b[0;34m()\u001b[0m\n\u001b[1;32m      3\u001b[0m \u001b[0;34m\u001b[0m\u001b[0m\n\u001b[1;32m      4\u001b[0m \u001b[0;31m# Train and test the models\u001b[0m\u001b[0;34m\u001b[0m\u001b[0;34m\u001b[0m\u001b[0m\n\u001b[0;32m----> 5\u001b[0;31m \u001b[0mtrain\u001b[0m\u001b[0;34m(\u001b[0m\u001b[0mmlp\u001b[0m\u001b[0;34m,\u001b[0m \u001b[0mtrain_set\u001b[0m\u001b[0;34m,\u001b[0m \u001b[0mcriterion\u001b[0m\u001b[0;34m,\u001b[0m \u001b[0moptimizer_mlp\u001b[0m\u001b[0;34m,\u001b[0m \u001b[0mbatch_size\u001b[0m\u001b[0;34m,\u001b[0m \u001b[0mepochs\u001b[0m\u001b[0;34m,\u001b[0m \u001b[0mmodel_name\u001b[0m\u001b[0;34m,\u001b[0m \u001b[0mfig_path\u001b[0m\u001b[0;34m,\u001b[0m \u001b[0mdevice\u001b[0m\u001b[0;34m=\u001b[0m\u001b[0mdevice\u001b[0m\u001b[0;34m)\u001b[0m\u001b[0;34m\u001b[0m\u001b[0;34m\u001b[0m\u001b[0m\n\u001b[0m\u001b[1;32m      6\u001b[0m \u001b[0mtest\u001b[0m\u001b[0;34m(\u001b[0m\u001b[0mmlp\u001b[0m\u001b[0;34m,\u001b[0m \u001b[0mtest_set\u001b[0m\u001b[0;34m,\u001b[0m \u001b[0mcriterion\u001b[0m\u001b[0;34m,\u001b[0m \u001b[0;34m'mlp_cifar2.pth'\u001b[0m\u001b[0;34m,\u001b[0m \u001b[0mdevice\u001b[0m\u001b[0;34m=\u001b[0m\u001b[0mdevice\u001b[0m\u001b[0;34m)\u001b[0m\u001b[0;34m\u001b[0m\u001b[0;34m\u001b[0m\u001b[0m\n",
            "\u001b[0;32m<ipython-input-5-46b262d08e7d>\u001b[0m in \u001b[0;36mtrain\u001b[0;34m(model, train_set, criterion, optimizer, batch_size, epochs, model_name, fig_path, device)\u001b[0m\n\u001b[1;32m     24\u001b[0m     \u001b[0;32mfor\u001b[0m \u001b[0mepoch\u001b[0m \u001b[0;32min\u001b[0m \u001b[0mrange\u001b[0m\u001b[0;34m(\u001b[0m\u001b[0mepochs\u001b[0m\u001b[0;34m)\u001b[0m\u001b[0;34m:\u001b[0m\u001b[0;34m\u001b[0m\u001b[0;34m\u001b[0m\u001b[0m\n\u001b[1;32m     25\u001b[0m         \u001b[0;31m# Train Epoch\u001b[0m\u001b[0;34m\u001b[0m\u001b[0;34m\u001b[0m\u001b[0m\n\u001b[0;32m---> 26\u001b[0;31m         \u001b[0mtrain_loss\u001b[0m \u001b[0;34m=\u001b[0m \u001b[0mtrain_epoch\u001b[0m\u001b[0;34m(\u001b[0m\u001b[0mmodel\u001b[0m\u001b[0;34m,\u001b[0m \u001b[0mdl_train\u001b[0m\u001b[0;34m,\u001b[0m \u001b[0mcriterion\u001b[0m\u001b[0;34m,\u001b[0m \u001b[0moptimizer\u001b[0m\u001b[0;34m,\u001b[0m \u001b[0mepoch\u001b[0m\u001b[0;34m,\u001b[0m \u001b[0mdevice\u001b[0m\u001b[0;34m)\u001b[0m\u001b[0;34m\u001b[0m\u001b[0;34m\u001b[0m\u001b[0m\n\u001b[0m\u001b[1;32m     27\u001b[0m         \u001b[0;31m# Evaluate Model\u001b[0m\u001b[0;34m\u001b[0m\u001b[0;34m\u001b[0m\u001b[0m\n\u001b[1;32m     28\u001b[0m         \u001b[0mval_loss\u001b[0m\u001b[0;34m,\u001b[0m \u001b[0mval_acc\u001b[0m\u001b[0;34m,\u001b[0m \u001b[0m_\u001b[0m \u001b[0;34m=\u001b[0m \u001b[0mevaluate_model\u001b[0m\u001b[0;34m(\u001b[0m\u001b[0mmodel\u001b[0m\u001b[0;34m,\u001b[0m \u001b[0mdl_val\u001b[0m\u001b[0;34m,\u001b[0m \u001b[0mcriterion\u001b[0m\u001b[0;34m,\u001b[0m \u001b[0mdevice\u001b[0m\u001b[0;34m)\u001b[0m\u001b[0;34m\u001b[0m\u001b[0;34m\u001b[0m\u001b[0m\n",
            "\u001b[0;32m<ipython-input-4-72f4b4f55dc1>\u001b[0m in \u001b[0;36mtrain_epoch\u001b[0;34m(model, dataloader, criterion, optimizer, epoch, device)\u001b[0m\n\u001b[1;32m      2\u001b[0m     \u001b[0mmodel\u001b[0m\u001b[0;34m.\u001b[0m\u001b[0mtrain\u001b[0m\u001b[0;34m(\u001b[0m\u001b[0;34m)\u001b[0m\u001b[0;34m\u001b[0m\u001b[0;34m\u001b[0m\u001b[0m\n\u001b[1;32m      3\u001b[0m     \u001b[0mlosses\u001b[0m \u001b[0;34m=\u001b[0m \u001b[0;34m[\u001b[0m\u001b[0;34m]\u001b[0m\u001b[0;34m\u001b[0m\u001b[0;34m\u001b[0m\u001b[0m\n\u001b[0;32m----> 4\u001b[0;31m     \u001b[0;32mfor\u001b[0m \u001b[0;34m(\u001b[0m\u001b[0minputs\u001b[0m\u001b[0;34m,\u001b[0m \u001b[0mlabels\u001b[0m\u001b[0;34m)\u001b[0m \u001b[0;32min\u001b[0m \u001b[0mtqdm\u001b[0m\u001b[0;34m(\u001b[0m\u001b[0mdataloader\u001b[0m\u001b[0;34m,\u001b[0m \u001b[0mdesc\u001b[0m\u001b[0;34m=\u001b[0m\u001b[0;34mf'Training epoch {epoch}'\u001b[0m\u001b[0;34m,\u001b[0m \u001b[0mleave\u001b[0m\u001b[0;34m=\u001b[0m\u001b[0;32mTrue\u001b[0m\u001b[0;34m)\u001b[0m\u001b[0;34m:\u001b[0m\u001b[0;34m\u001b[0m\u001b[0;34m\u001b[0m\u001b[0m\n\u001b[0m\u001b[1;32m      5\u001b[0m         \u001b[0minputs\u001b[0m\u001b[0;34m,\u001b[0m \u001b[0mlabels\u001b[0m \u001b[0;34m=\u001b[0m \u001b[0minputs\u001b[0m\u001b[0;34m.\u001b[0m\u001b[0mto\u001b[0m\u001b[0;34m(\u001b[0m\u001b[0mdevice\u001b[0m\u001b[0;34m)\u001b[0m\u001b[0;34m,\u001b[0m \u001b[0mlabels\u001b[0m\u001b[0;34m.\u001b[0m\u001b[0mto\u001b[0m\u001b[0;34m(\u001b[0m\u001b[0mdevice\u001b[0m\u001b[0;34m)\u001b[0m\u001b[0;34m\u001b[0m\u001b[0;34m\u001b[0m\u001b[0m\n\u001b[1;32m      6\u001b[0m         \u001b[0moptimizer\u001b[0m\u001b[0;34m.\u001b[0m\u001b[0mzero_grad\u001b[0m\u001b[0;34m(\u001b[0m\u001b[0;34m)\u001b[0m\u001b[0;34m\u001b[0m\u001b[0;34m\u001b[0m\u001b[0m\n",
            "\u001b[0;32m/usr/local/lib/python3.10/dist-packages/tqdm/std.py\u001b[0m in \u001b[0;36m__iter__\u001b[0;34m(self)\u001b[0m\n\u001b[1;32m   1179\u001b[0m \u001b[0;34m\u001b[0m\u001b[0m\n\u001b[1;32m   1180\u001b[0m         \u001b[0;32mtry\u001b[0m\u001b[0;34m:\u001b[0m\u001b[0;34m\u001b[0m\u001b[0;34m\u001b[0m\u001b[0m\n\u001b[0;32m-> 1181\u001b[0;31m             \u001b[0;32mfor\u001b[0m \u001b[0mobj\u001b[0m \u001b[0;32min\u001b[0m \u001b[0miterable\u001b[0m\u001b[0;34m:\u001b[0m\u001b[0;34m\u001b[0m\u001b[0;34m\u001b[0m\u001b[0m\n\u001b[0m\u001b[1;32m   1182\u001b[0m                 \u001b[0;32myield\u001b[0m \u001b[0mobj\u001b[0m\u001b[0;34m\u001b[0m\u001b[0;34m\u001b[0m\u001b[0m\n\u001b[1;32m   1183\u001b[0m                 \u001b[0;31m# Update and possibly print the progressbar.\u001b[0m\u001b[0;34m\u001b[0m\u001b[0;34m\u001b[0m\u001b[0m\n",
            "\u001b[0;32m/usr/local/lib/python3.10/dist-packages/torch/utils/data/dataloader.py\u001b[0m in \u001b[0;36m__next__\u001b[0;34m(self)\u001b[0m\n\u001b[1;32m    629\u001b[0m                 \u001b[0;31m# TODO(https://github.com/pytorch/pytorch/issues/76750)\u001b[0m\u001b[0;34m\u001b[0m\u001b[0;34m\u001b[0m\u001b[0m\n\u001b[1;32m    630\u001b[0m                 \u001b[0mself\u001b[0m\u001b[0;34m.\u001b[0m\u001b[0m_reset\u001b[0m\u001b[0;34m(\u001b[0m\u001b[0;34m)\u001b[0m  \u001b[0;31m# type: ignore[call-arg]\u001b[0m\u001b[0;34m\u001b[0m\u001b[0;34m\u001b[0m\u001b[0m\n\u001b[0;32m--> 631\u001b[0;31m             \u001b[0mdata\u001b[0m \u001b[0;34m=\u001b[0m \u001b[0mself\u001b[0m\u001b[0;34m.\u001b[0m\u001b[0m_next_data\u001b[0m\u001b[0;34m(\u001b[0m\u001b[0;34m)\u001b[0m\u001b[0;34m\u001b[0m\u001b[0;34m\u001b[0m\u001b[0m\n\u001b[0m\u001b[1;32m    632\u001b[0m             \u001b[0mself\u001b[0m\u001b[0;34m.\u001b[0m\u001b[0m_num_yielded\u001b[0m \u001b[0;34m+=\u001b[0m \u001b[0;36m1\u001b[0m\u001b[0;34m\u001b[0m\u001b[0;34m\u001b[0m\u001b[0m\n\u001b[1;32m    633\u001b[0m             \u001b[0;32mif\u001b[0m \u001b[0mself\u001b[0m\u001b[0;34m.\u001b[0m\u001b[0m_dataset_kind\u001b[0m \u001b[0;34m==\u001b[0m \u001b[0m_DatasetKind\u001b[0m\u001b[0;34m.\u001b[0m\u001b[0mIterable\u001b[0m \u001b[0;32mand\u001b[0m\u001b[0;31m \u001b[0m\u001b[0;31m\\\u001b[0m\u001b[0;34m\u001b[0m\u001b[0;34m\u001b[0m\u001b[0m\n",
            "\u001b[0;32m/usr/local/lib/python3.10/dist-packages/torch/utils/data/dataloader.py\u001b[0m in \u001b[0;36m_next_data\u001b[0;34m(self)\u001b[0m\n\u001b[1;32m    673\u001b[0m     \u001b[0;32mdef\u001b[0m \u001b[0m_next_data\u001b[0m\u001b[0;34m(\u001b[0m\u001b[0mself\u001b[0m\u001b[0;34m)\u001b[0m\u001b[0;34m:\u001b[0m\u001b[0;34m\u001b[0m\u001b[0;34m\u001b[0m\u001b[0m\n\u001b[1;32m    674\u001b[0m         \u001b[0mindex\u001b[0m \u001b[0;34m=\u001b[0m \u001b[0mself\u001b[0m\u001b[0;34m.\u001b[0m\u001b[0m_next_index\u001b[0m\u001b[0;34m(\u001b[0m\u001b[0;34m)\u001b[0m  \u001b[0;31m# may raise StopIteration\u001b[0m\u001b[0;34m\u001b[0m\u001b[0;34m\u001b[0m\u001b[0m\n\u001b[0;32m--> 675\u001b[0;31m         \u001b[0mdata\u001b[0m \u001b[0;34m=\u001b[0m \u001b[0mself\u001b[0m\u001b[0;34m.\u001b[0m\u001b[0m_dataset_fetcher\u001b[0m\u001b[0;34m.\u001b[0m\u001b[0mfetch\u001b[0m\u001b[0;34m(\u001b[0m\u001b[0mindex\u001b[0m\u001b[0;34m)\u001b[0m  \u001b[0;31m# may raise StopIteration\u001b[0m\u001b[0;34m\u001b[0m\u001b[0;34m\u001b[0m\u001b[0m\n\u001b[0m\u001b[1;32m    676\u001b[0m         \u001b[0;32mif\u001b[0m \u001b[0mself\u001b[0m\u001b[0;34m.\u001b[0m\u001b[0m_pin_memory\u001b[0m\u001b[0;34m:\u001b[0m\u001b[0;34m\u001b[0m\u001b[0;34m\u001b[0m\u001b[0m\n\u001b[1;32m    677\u001b[0m             \u001b[0mdata\u001b[0m \u001b[0;34m=\u001b[0m \u001b[0m_utils\u001b[0m\u001b[0;34m.\u001b[0m\u001b[0mpin_memory\u001b[0m\u001b[0;34m.\u001b[0m\u001b[0mpin_memory\u001b[0m\u001b[0;34m(\u001b[0m\u001b[0mdata\u001b[0m\u001b[0;34m,\u001b[0m \u001b[0mself\u001b[0m\u001b[0;34m.\u001b[0m\u001b[0m_pin_memory_device\u001b[0m\u001b[0;34m)\u001b[0m\u001b[0;34m\u001b[0m\u001b[0;34m\u001b[0m\u001b[0m\n",
            "\u001b[0;32m/usr/local/lib/python3.10/dist-packages/torch/utils/data/_utils/fetch.py\u001b[0m in \u001b[0;36mfetch\u001b[0;34m(self, possibly_batched_index)\u001b[0m\n\u001b[1;32m     47\u001b[0m         \u001b[0;32mif\u001b[0m \u001b[0mself\u001b[0m\u001b[0;34m.\u001b[0m\u001b[0mauto_collation\u001b[0m\u001b[0;34m:\u001b[0m\u001b[0;34m\u001b[0m\u001b[0;34m\u001b[0m\u001b[0m\n\u001b[1;32m     48\u001b[0m             \u001b[0;32mif\u001b[0m \u001b[0mhasattr\u001b[0m\u001b[0;34m(\u001b[0m\u001b[0mself\u001b[0m\u001b[0;34m.\u001b[0m\u001b[0mdataset\u001b[0m\u001b[0;34m,\u001b[0m \u001b[0;34m\"__getitems__\"\u001b[0m\u001b[0;34m)\u001b[0m \u001b[0;32mand\u001b[0m \u001b[0mself\u001b[0m\u001b[0;34m.\u001b[0m\u001b[0mdataset\u001b[0m\u001b[0;34m.\u001b[0m\u001b[0m__getitems__\u001b[0m\u001b[0;34m:\u001b[0m\u001b[0;34m\u001b[0m\u001b[0;34m\u001b[0m\u001b[0m\n\u001b[0;32m---> 49\u001b[0;31m                 \u001b[0mdata\u001b[0m \u001b[0;34m=\u001b[0m \u001b[0mself\u001b[0m\u001b[0;34m.\u001b[0m\u001b[0mdataset\u001b[0m\u001b[0;34m.\u001b[0m\u001b[0m__getitems__\u001b[0m\u001b[0;34m(\u001b[0m\u001b[0mpossibly_batched_index\u001b[0m\u001b[0;34m)\u001b[0m\u001b[0;34m\u001b[0m\u001b[0;34m\u001b[0m\u001b[0m\n\u001b[0m\u001b[1;32m     50\u001b[0m             \u001b[0;32melse\u001b[0m\u001b[0;34m:\u001b[0m\u001b[0;34m\u001b[0m\u001b[0;34m\u001b[0m\u001b[0m\n\u001b[1;32m     51\u001b[0m                 \u001b[0mdata\u001b[0m \u001b[0;34m=\u001b[0m \u001b[0;34m[\u001b[0m\u001b[0mself\u001b[0m\u001b[0;34m.\u001b[0m\u001b[0mdataset\u001b[0m\u001b[0;34m[\u001b[0m\u001b[0midx\u001b[0m\u001b[0;34m]\u001b[0m \u001b[0;32mfor\u001b[0m \u001b[0midx\u001b[0m \u001b[0;32min\u001b[0m \u001b[0mpossibly_batched_index\u001b[0m\u001b[0;34m]\u001b[0m\u001b[0;34m\u001b[0m\u001b[0;34m\u001b[0m\u001b[0m\n",
            "\u001b[0;32m/usr/local/lib/python3.10/dist-packages/torch/utils/data/dataset.py\u001b[0m in \u001b[0;36m__getitems__\u001b[0;34m(self, indices)\u001b[0m\n\u001b[1;32m    417\u001b[0m             \u001b[0;32mreturn\u001b[0m \u001b[0mself\u001b[0m\u001b[0;34m.\u001b[0m\u001b[0mdataset\u001b[0m\u001b[0;34m.\u001b[0m\u001b[0m__getitems__\u001b[0m\u001b[0;34m(\u001b[0m\u001b[0;34m[\u001b[0m\u001b[0mself\u001b[0m\u001b[0;34m.\u001b[0m\u001b[0mindices\u001b[0m\u001b[0;34m[\u001b[0m\u001b[0midx\u001b[0m\u001b[0;34m]\u001b[0m \u001b[0;32mfor\u001b[0m \u001b[0midx\u001b[0m \u001b[0;32min\u001b[0m \u001b[0mindices\u001b[0m\u001b[0;34m]\u001b[0m\u001b[0;34m)\u001b[0m  \u001b[0;31m# type: ignore[attr-defined]\u001b[0m\u001b[0;34m\u001b[0m\u001b[0;34m\u001b[0m\u001b[0m\n\u001b[1;32m    418\u001b[0m         \u001b[0;32melse\u001b[0m\u001b[0;34m:\u001b[0m\u001b[0;34m\u001b[0m\u001b[0;34m\u001b[0m\u001b[0m\n\u001b[0;32m--> 419\u001b[0;31m             \u001b[0;32mreturn\u001b[0m \u001b[0;34m[\u001b[0m\u001b[0mself\u001b[0m\u001b[0;34m.\u001b[0m\u001b[0mdataset\u001b[0m\u001b[0;34m[\u001b[0m\u001b[0mself\u001b[0m\u001b[0;34m.\u001b[0m\u001b[0mindices\u001b[0m\u001b[0;34m[\u001b[0m\u001b[0midx\u001b[0m\u001b[0;34m]\u001b[0m\u001b[0;34m]\u001b[0m \u001b[0;32mfor\u001b[0m \u001b[0midx\u001b[0m \u001b[0;32min\u001b[0m \u001b[0mindices\u001b[0m\u001b[0;34m]\u001b[0m\u001b[0;34m\u001b[0m\u001b[0;34m\u001b[0m\u001b[0m\n\u001b[0m\u001b[1;32m    420\u001b[0m \u001b[0;34m\u001b[0m\u001b[0m\n\u001b[1;32m    421\u001b[0m     \u001b[0;32mdef\u001b[0m \u001b[0m__len__\u001b[0m\u001b[0;34m(\u001b[0m\u001b[0mself\u001b[0m\u001b[0;34m)\u001b[0m\u001b[0;34m:\u001b[0m\u001b[0;34m\u001b[0m\u001b[0;34m\u001b[0m\u001b[0m\n",
            "\u001b[0;32m/usr/local/lib/python3.10/dist-packages/torch/utils/data/dataset.py\u001b[0m in \u001b[0;36m<listcomp>\u001b[0;34m(.0)\u001b[0m\n\u001b[1;32m    417\u001b[0m             \u001b[0;32mreturn\u001b[0m \u001b[0mself\u001b[0m\u001b[0;34m.\u001b[0m\u001b[0mdataset\u001b[0m\u001b[0;34m.\u001b[0m\u001b[0m__getitems__\u001b[0m\u001b[0;34m(\u001b[0m\u001b[0;34m[\u001b[0m\u001b[0mself\u001b[0m\u001b[0;34m.\u001b[0m\u001b[0mindices\u001b[0m\u001b[0;34m[\u001b[0m\u001b[0midx\u001b[0m\u001b[0;34m]\u001b[0m \u001b[0;32mfor\u001b[0m \u001b[0midx\u001b[0m \u001b[0;32min\u001b[0m \u001b[0mindices\u001b[0m\u001b[0;34m]\u001b[0m\u001b[0;34m)\u001b[0m  \u001b[0;31m# type: ignore[attr-defined]\u001b[0m\u001b[0;34m\u001b[0m\u001b[0;34m\u001b[0m\u001b[0m\n\u001b[1;32m    418\u001b[0m         \u001b[0;32melse\u001b[0m\u001b[0;34m:\u001b[0m\u001b[0;34m\u001b[0m\u001b[0;34m\u001b[0m\u001b[0m\n\u001b[0;32m--> 419\u001b[0;31m             \u001b[0;32mreturn\u001b[0m \u001b[0;34m[\u001b[0m\u001b[0mself\u001b[0m\u001b[0;34m.\u001b[0m\u001b[0mdataset\u001b[0m\u001b[0;34m[\u001b[0m\u001b[0mself\u001b[0m\u001b[0;34m.\u001b[0m\u001b[0mindices\u001b[0m\u001b[0;34m[\u001b[0m\u001b[0midx\u001b[0m\u001b[0;34m]\u001b[0m\u001b[0;34m]\u001b[0m \u001b[0;32mfor\u001b[0m \u001b[0midx\u001b[0m \u001b[0;32min\u001b[0m \u001b[0mindices\u001b[0m\u001b[0;34m]\u001b[0m\u001b[0;34m\u001b[0m\u001b[0;34m\u001b[0m\u001b[0m\n\u001b[0m\u001b[1;32m    420\u001b[0m \u001b[0;34m\u001b[0m\u001b[0m\n\u001b[1;32m    421\u001b[0m     \u001b[0;32mdef\u001b[0m \u001b[0m__len__\u001b[0m\u001b[0;34m(\u001b[0m\u001b[0mself\u001b[0m\u001b[0;34m)\u001b[0m\u001b[0;34m:\u001b[0m\u001b[0;34m\u001b[0m\u001b[0;34m\u001b[0m\u001b[0m\n",
            "\u001b[0;32m/usr/local/lib/python3.10/dist-packages/torchvision/datasets/cifar.py\u001b[0m in \u001b[0;36m__getitem__\u001b[0;34m(self, index)\u001b[0m\n\u001b[1;32m    117\u001b[0m \u001b[0;34m\u001b[0m\u001b[0m\n\u001b[1;32m    118\u001b[0m         \u001b[0;32mif\u001b[0m \u001b[0mself\u001b[0m\u001b[0;34m.\u001b[0m\u001b[0mtransform\u001b[0m \u001b[0;32mis\u001b[0m \u001b[0;32mnot\u001b[0m \u001b[0;32mNone\u001b[0m\u001b[0;34m:\u001b[0m\u001b[0;34m\u001b[0m\u001b[0;34m\u001b[0m\u001b[0m\n\u001b[0;32m--> 119\u001b[0;31m             \u001b[0mimg\u001b[0m \u001b[0;34m=\u001b[0m \u001b[0mself\u001b[0m\u001b[0;34m.\u001b[0m\u001b[0mtransform\u001b[0m\u001b[0;34m(\u001b[0m\u001b[0mimg\u001b[0m\u001b[0;34m)\u001b[0m\u001b[0;34m\u001b[0m\u001b[0;34m\u001b[0m\u001b[0m\n\u001b[0m\u001b[1;32m    120\u001b[0m \u001b[0;34m\u001b[0m\u001b[0m\n\u001b[1;32m    121\u001b[0m         \u001b[0;32mif\u001b[0m \u001b[0mself\u001b[0m\u001b[0;34m.\u001b[0m\u001b[0mtarget_transform\u001b[0m \u001b[0;32mis\u001b[0m \u001b[0;32mnot\u001b[0m \u001b[0;32mNone\u001b[0m\u001b[0;34m:\u001b[0m\u001b[0;34m\u001b[0m\u001b[0;34m\u001b[0m\u001b[0m\n",
            "\u001b[0;32m/usr/local/lib/python3.10/dist-packages/torchvision/transforms/transforms.py\u001b[0m in \u001b[0;36m__call__\u001b[0;34m(self, img)\u001b[0m\n\u001b[1;32m     93\u001b[0m     \u001b[0;32mdef\u001b[0m \u001b[0m__call__\u001b[0m\u001b[0;34m(\u001b[0m\u001b[0mself\u001b[0m\u001b[0;34m,\u001b[0m \u001b[0mimg\u001b[0m\u001b[0;34m)\u001b[0m\u001b[0;34m:\u001b[0m\u001b[0;34m\u001b[0m\u001b[0;34m\u001b[0m\u001b[0m\n\u001b[1;32m     94\u001b[0m         \u001b[0;32mfor\u001b[0m \u001b[0mt\u001b[0m \u001b[0;32min\u001b[0m \u001b[0mself\u001b[0m\u001b[0;34m.\u001b[0m\u001b[0mtransforms\u001b[0m\u001b[0;34m:\u001b[0m\u001b[0;34m\u001b[0m\u001b[0;34m\u001b[0m\u001b[0m\n\u001b[0;32m---> 95\u001b[0;31m             \u001b[0mimg\u001b[0m \u001b[0;34m=\u001b[0m \u001b[0mt\u001b[0m\u001b[0;34m(\u001b[0m\u001b[0mimg\u001b[0m\u001b[0;34m)\u001b[0m\u001b[0;34m\u001b[0m\u001b[0;34m\u001b[0m\u001b[0m\n\u001b[0m\u001b[1;32m     96\u001b[0m         \u001b[0;32mreturn\u001b[0m \u001b[0mimg\u001b[0m\u001b[0;34m\u001b[0m\u001b[0;34m\u001b[0m\u001b[0m\n\u001b[1;32m     97\u001b[0m \u001b[0;34m\u001b[0m\u001b[0m\n",
            "\u001b[0;32m/usr/local/lib/python3.10/dist-packages/torchvision/transforms/transforms.py\u001b[0m in \u001b[0;36m__call__\u001b[0;34m(self, pic)\u001b[0m\n\u001b[1;32m    135\u001b[0m             \u001b[0mTensor\u001b[0m\u001b[0;34m:\u001b[0m \u001b[0mConverted\u001b[0m \u001b[0mimage\u001b[0m\u001b[0;34m.\u001b[0m\u001b[0;34m\u001b[0m\u001b[0;34m\u001b[0m\u001b[0m\n\u001b[1;32m    136\u001b[0m         \"\"\"\n\u001b[0;32m--> 137\u001b[0;31m         \u001b[0;32mreturn\u001b[0m \u001b[0mF\u001b[0m\u001b[0;34m.\u001b[0m\u001b[0mto_tensor\u001b[0m\u001b[0;34m(\u001b[0m\u001b[0mpic\u001b[0m\u001b[0;34m)\u001b[0m\u001b[0;34m\u001b[0m\u001b[0;34m\u001b[0m\u001b[0m\n\u001b[0m\u001b[1;32m    138\u001b[0m \u001b[0;34m\u001b[0m\u001b[0m\n\u001b[1;32m    139\u001b[0m     \u001b[0;32mdef\u001b[0m \u001b[0m__repr__\u001b[0m\u001b[0;34m(\u001b[0m\u001b[0mself\u001b[0m\u001b[0;34m)\u001b[0m \u001b[0;34m->\u001b[0m \u001b[0mstr\u001b[0m\u001b[0;34m:\u001b[0m\u001b[0;34m\u001b[0m\u001b[0;34m\u001b[0m\u001b[0m\n",
            "\u001b[0;32m/usr/local/lib/python3.10/dist-packages/torchvision/transforms/functional.py\u001b[0m in \u001b[0;36mto_tensor\u001b[0;34m(pic)\u001b[0m\n\u001b[1;32m    166\u001b[0m     \u001b[0;31m# handle PIL Image\u001b[0m\u001b[0;34m\u001b[0m\u001b[0;34m\u001b[0m\u001b[0m\n\u001b[1;32m    167\u001b[0m     \u001b[0mmode_to_nptype\u001b[0m \u001b[0;34m=\u001b[0m \u001b[0;34m{\u001b[0m\u001b[0;34m\"I\"\u001b[0m\u001b[0;34m:\u001b[0m \u001b[0mnp\u001b[0m\u001b[0;34m.\u001b[0m\u001b[0mint32\u001b[0m\u001b[0;34m,\u001b[0m \u001b[0;34m\"I;16\"\u001b[0m \u001b[0;32mif\u001b[0m \u001b[0msys\u001b[0m\u001b[0;34m.\u001b[0m\u001b[0mbyteorder\u001b[0m \u001b[0;34m==\u001b[0m \u001b[0;34m\"little\"\u001b[0m \u001b[0;32melse\u001b[0m \u001b[0;34m\"I;16B\"\u001b[0m\u001b[0;34m:\u001b[0m \u001b[0mnp\u001b[0m\u001b[0;34m.\u001b[0m\u001b[0mint16\u001b[0m\u001b[0;34m,\u001b[0m \u001b[0;34m\"F\"\u001b[0m\u001b[0;34m:\u001b[0m \u001b[0mnp\u001b[0m\u001b[0;34m.\u001b[0m\u001b[0mfloat32\u001b[0m\u001b[0;34m}\u001b[0m\u001b[0;34m\u001b[0m\u001b[0;34m\u001b[0m\u001b[0m\n\u001b[0;32m--> 168\u001b[0;31m     \u001b[0mimg\u001b[0m \u001b[0;34m=\u001b[0m \u001b[0mtorch\u001b[0m\u001b[0;34m.\u001b[0m\u001b[0mfrom_numpy\u001b[0m\u001b[0;34m(\u001b[0m\u001b[0mnp\u001b[0m\u001b[0;34m.\u001b[0m\u001b[0marray\u001b[0m\u001b[0;34m(\u001b[0m\u001b[0mpic\u001b[0m\u001b[0;34m,\u001b[0m \u001b[0mmode_to_nptype\u001b[0m\u001b[0;34m.\u001b[0m\u001b[0mget\u001b[0m\u001b[0;34m(\u001b[0m\u001b[0mpic\u001b[0m\u001b[0;34m.\u001b[0m\u001b[0mmode\u001b[0m\u001b[0;34m,\u001b[0m \u001b[0mnp\u001b[0m\u001b[0;34m.\u001b[0m\u001b[0muint8\u001b[0m\u001b[0;34m)\u001b[0m\u001b[0;34m,\u001b[0m \u001b[0mcopy\u001b[0m\u001b[0;34m=\u001b[0m\u001b[0;32mTrue\u001b[0m\u001b[0;34m)\u001b[0m\u001b[0;34m)\u001b[0m\u001b[0;34m\u001b[0m\u001b[0;34m\u001b[0m\u001b[0m\n\u001b[0m\u001b[1;32m    169\u001b[0m \u001b[0;34m\u001b[0m\u001b[0m\n\u001b[1;32m    170\u001b[0m     \u001b[0;32mif\u001b[0m \u001b[0mpic\u001b[0m\u001b[0;34m.\u001b[0m\u001b[0mmode\u001b[0m \u001b[0;34m==\u001b[0m \u001b[0;34m\"1\"\u001b[0m\u001b[0;34m:\u001b[0m\u001b[0;34m\u001b[0m\u001b[0;34m\u001b[0m\u001b[0m\n",
            "\u001b[0;32m/usr/local/lib/python3.10/dist-packages/PIL/Image.py\u001b[0m in \u001b[0;36m__getattr__\u001b[0;34m(self, name)\u001b[0m\n\u001b[1;32m    523\u001b[0m         \u001b[0mself\u001b[0m\u001b[0;34m.\u001b[0m\u001b[0m_exif\u001b[0m \u001b[0;34m=\u001b[0m \u001b[0;32mNone\u001b[0m\u001b[0;34m\u001b[0m\u001b[0;34m\u001b[0m\u001b[0m\n\u001b[1;32m    524\u001b[0m \u001b[0;34m\u001b[0m\u001b[0m\n\u001b[0;32m--> 525\u001b[0;31m     \u001b[0;32mdef\u001b[0m \u001b[0m__getattr__\u001b[0m\u001b[0;34m(\u001b[0m\u001b[0mself\u001b[0m\u001b[0;34m,\u001b[0m \u001b[0mname\u001b[0m\u001b[0;34m)\u001b[0m\u001b[0;34m:\u001b[0m\u001b[0;34m\u001b[0m\u001b[0;34m\u001b[0m\u001b[0m\n\u001b[0m\u001b[1;32m    526\u001b[0m         \u001b[0;32mif\u001b[0m \u001b[0mname\u001b[0m \u001b[0;34m==\u001b[0m \u001b[0;34m\"category\"\u001b[0m\u001b[0;34m:\u001b[0m\u001b[0;34m\u001b[0m\u001b[0;34m\u001b[0m\u001b[0m\n\u001b[1;32m    527\u001b[0m             \u001b[0mdeprecate\u001b[0m\u001b[0;34m(\u001b[0m\u001b[0;34m\"Image categories\"\u001b[0m\u001b[0;34m,\u001b[0m \u001b[0;36m10\u001b[0m\u001b[0;34m,\u001b[0m \u001b[0;34m\"is_animated\"\u001b[0m\u001b[0;34m,\u001b[0m \u001b[0mplural\u001b[0m\u001b[0;34m=\u001b[0m\u001b[0;32mTrue\u001b[0m\u001b[0;34m)\u001b[0m\u001b[0;34m\u001b[0m\u001b[0;34m\u001b[0m\u001b[0m\n",
            "\u001b[0;31mKeyboardInterrupt\u001b[0m: "
          ]
        }
      ],
      "source": [
        "model_name = 'mlp_cifar2.pth'\n",
        "fig_path = 'results/mlp_cifar2.png'\n",
        "\n",
        "# Train and test the models\n",
        "train(mlp, train_set, criterion, optimizer_mlp, batch_size, epochs, model_name, fig_path, device=device)\n",
        "test(mlp, test_set, criterion, 'mlp_cifar2.pth', device=device)"
      ]
    },
    {
      "cell_type": "code",
      "execution_count": 41,
      "id": "BeTrFEGSjWZ3",
      "metadata": {
        "colab": {
          "base_uri": "https://localhost:8080/",
          "height": 1000,
          "referenced_widgets": [
            "420a52b7e4d64f24b2e7c5e2acf40b08",
            "1a8c0913f1014af1b803f0b8d7808827",
            "301e25612938498484252a81c27f6daa",
            "007efc9a273a4ad59e944a5e9486d19c",
            "d344fb51fb244ff3a446719f546d258d",
            "68615777391a4cc9830654cf08216085",
            "5aa9915edc7d4b93b765f31d4888f587",
            "14513d8c844c4f37aa2c4c3033140cb4"
          ]
        },
        "id": "BeTrFEGSjWZ3",
        "outputId": "87208283-cca7-4c9b-9047-a52756e4ab10"
      },
      "outputs": [
        {
          "data": {
            "text/html": [
              "Finishing last run (ID:3cm7fino) before initializing another..."
            ],
            "text/plain": [
              "<IPython.core.display.HTML object>"
            ]
          },
          "metadata": {},
          "output_type": "display_data"
        },
        {
          "data": {
            "application/vnd.jupyter.widget-view+json": {
              "model_id": "420a52b7e4d64f24b2e7c5e2acf40b08",
              "version_major": 2,
              "version_minor": 0
            },
            "text/plain": [
              "VBox(children=(Label(value='0.001 MB of 0.012 MB uploaded\\r'), FloatProgress(value=0.09776670951156813, max=1.…"
            ]
          },
          "metadata": {},
          "output_type": "display_data"
        },
        {
          "data": {
            "text/html": [
              "<style>\n",
              "    table.wandb td:nth-child(1) { padding: 0 10px; text-align: left ; width: auto;} td:nth-child(2) {text-align: left ; width: 100%}\n",
              "    .wandb-row { display: flex; flex-direction: row; flex-wrap: wrap; justify-content: flex-start; width: 100% }\n",
              "    .wandb-col { display: flex; flex-direction: column; flex-basis: 100%; flex: 1; padding: 10px; }\n",
              "    </style>\n",
              "<div class=\"wandb-row\"><div class=\"wandb-col\"><h3>Run history:</h3><br/><table class=\"wandb\"><tr><td>epoch</td><td>▁▂▂▃▃▄▅▅▆▆▇▇█</td></tr><tr><td>train_loss</td><td>███▇▇▇▆▆▅▄▃▂▁</td></tr><tr><td>val_accuracy</td><td>▁▂▃▄▅▅▄▄▅▅▅▇█</td></tr><tr><td>val_loss</td><td>███▇▇▇▆▆▅▄▄▂▁</td></tr></table><br/></div><div class=\"wandb-col\"><h3>Run summary:</h3><br/><table class=\"wandb\"><tr><td>epoch</td><td>12</td></tr><tr><td>train_loss</td><td>2.13537</td></tr><tr><td>val_accuracy</td><td>0.209</td></tr><tr><td>val_loss</td><td>2.13533</td></tr></table><br/></div></div>"
            ],
            "text/plain": [
              "<IPython.core.display.HTML object>"
            ]
          },
          "metadata": {},
          "output_type": "display_data"
        },
        {
          "data": {
            "text/html": [
              " View run <strong style=\"color:#cdcd00\">fresh-pine-38</strong> at: <a href='https://wandb.ai/thomasdelmoro/dla_lab1/runs/3cm7fino' target=\"_blank\">https://wandb.ai/thomasdelmoro/dla_lab1/runs/3cm7fino</a><br/> View project at: <a href='https://wandb.ai/thomasdelmoro/dla_lab1' target=\"_blank\">https://wandb.ai/thomasdelmoro/dla_lab1</a><br/>Synced 5 W&B file(s), 0 media file(s), 0 artifact file(s) and 0 other file(s)"
            ],
            "text/plain": [
              "<IPython.core.display.HTML object>"
            ]
          },
          "metadata": {},
          "output_type": "display_data"
        },
        {
          "data": {
            "text/html": [
              "Find logs at: <code>./wandb/run-20240823_152109-3cm7fino/logs</code>"
            ],
            "text/plain": [
              "<IPython.core.display.HTML object>"
            ]
          },
          "metadata": {},
          "output_type": "display_data"
        },
        {
          "data": {
            "text/html": [
              "The new W&B backend becomes opt-out in version 0.18.0; try it out with `wandb.require(\"core\")`! See https://wandb.me/wandb-core for more information."
            ],
            "text/plain": [
              "<IPython.core.display.HTML object>"
            ]
          },
          "metadata": {},
          "output_type": "display_data"
        },
        {
          "data": {
            "text/html": [
              "Successfully finished last run (ID:3cm7fino). Initializing new run:<br/>"
            ],
            "text/plain": [
              "<IPython.core.display.HTML object>"
            ]
          },
          "metadata": {},
          "output_type": "display_data"
        },
        {
          "data": {
            "text/html": [
              "Tracking run with wandb version 0.17.7"
            ],
            "text/plain": [
              "<IPython.core.display.HTML object>"
            ]
          },
          "metadata": {},
          "output_type": "display_data"
        },
        {
          "data": {
            "text/html": [
              "Run data is saved locally in <code>/content/wandb/run-20240823_152459-52mzddu0</code>"
            ],
            "text/plain": [
              "<IPython.core.display.HTML object>"
            ]
          },
          "metadata": {},
          "output_type": "display_data"
        },
        {
          "data": {
            "text/html": [
              "Syncing run <strong><a href='https://wandb.ai/thomasdelmoro/dla_lab1/runs/52mzddu0' target=\"_blank\">fine-frog-39</a></strong> to <a href='https://wandb.ai/thomasdelmoro/dla_lab1' target=\"_blank\">Weights & Biases</a> (<a href='https://wandb.me/run' target=\"_blank\">docs</a>)<br/>"
            ],
            "text/plain": [
              "<IPython.core.display.HTML object>"
            ]
          },
          "metadata": {},
          "output_type": "display_data"
        },
        {
          "data": {
            "text/html": [
              " View project at <a href='https://wandb.ai/thomasdelmoro/dla_lab1' target=\"_blank\">https://wandb.ai/thomasdelmoro/dla_lab1</a>"
            ],
            "text/plain": [
              "<IPython.core.display.HTML object>"
            ]
          },
          "metadata": {},
          "output_type": "display_data"
        },
        {
          "data": {
            "text/html": [
              " View run at <a href='https://wandb.ai/thomasdelmoro/dla_lab1/runs/52mzddu0' target=\"_blank\">https://wandb.ai/thomasdelmoro/dla_lab1/runs/52mzddu0</a>"
            ],
            "text/plain": [
              "<IPython.core.display.HTML object>"
            ]
          },
          "metadata": {},
          "output_type": "display_data"
        },
        {
          "name": "stdout",
          "output_type": "stream",
          "text": [
            "Training-Set Ready\n",
            "Validation-Set Ready\n",
            "Starting Training...\n"
          ]
        },
        {
          "name": "stderr",
          "output_type": "stream",
          "text": [
            "Training epoch 0: 100%|██████████| 704/704 [00:47<00:00, 14.77it/s]\n",
            "Training epoch 1: 100%|██████████| 704/704 [00:47<00:00, 14.87it/s]\n",
            "Training epoch 2: 100%|██████████| 704/704 [00:47<00:00, 14.81it/s]\n",
            "Training epoch 3: 100%|██████████| 704/704 [00:47<00:00, 14.89it/s]\n",
            "Training epoch 4: 100%|██████████| 704/704 [00:47<00:00, 14.96it/s]\n",
            "Training epoch 5: 100%|██████████| 704/704 [00:47<00:00, 14.94it/s]\n",
            "Training epoch 6: 100%|██████████| 704/704 [00:46<00:00, 14.99it/s]\n",
            "Training epoch 7: 100%|██████████| 704/704 [00:46<00:00, 15.07it/s]\n",
            "Training epoch 8: 100%|██████████| 704/704 [00:47<00:00, 14.98it/s]\n",
            "Training epoch 9: 100%|██████████| 704/704 [00:47<00:00, 14.87it/s]\n",
            "Training epoch 10: 100%|██████████| 704/704 [00:47<00:00, 14.76it/s]\n",
            "Training epoch 11: 100%|██████████| 704/704 [00:47<00:00, 14.86it/s]\n",
            "Training epoch 12: 100%|██████████| 704/704 [00:47<00:00, 14.88it/s]\n",
            "Training epoch 13: 100%|██████████| 704/704 [00:47<00:00, 14.95it/s]\n",
            "Training epoch 14: 100%|██████████| 704/704 [00:46<00:00, 14.99it/s]\n",
            "Training epoch 15: 100%|██████████| 704/704 [00:47<00:00, 14.97it/s]\n",
            "Training epoch 16: 100%|██████████| 704/704 [00:47<00:00, 14.93it/s]\n",
            "Training epoch 17: 100%|██████████| 704/704 [00:47<00:00, 14.91it/s]\n"
          ]
        },
        {
          "name": "stdout",
          "output_type": "stream",
          "text": [
            "Loading model...\n",
            "Model Loaded\n"
          ]
        },
        {
          "name": "stderr",
          "output_type": "stream",
          "text": []
        },
        {
          "name": "stdout",
          "output_type": "stream",
          "text": [
            "Test Accuracy: 0.6579\n",
            "              precision    recall  f1-score   support\n",
            "\n",
            "           0      0.693     0.703     0.698      1000\n",
            "           1      0.769     0.837     0.801      1000\n",
            "           2      0.545     0.537     0.541      1000\n",
            "           3      0.441     0.543     0.487      1000\n",
            "           4      0.636     0.511     0.567      1000\n",
            "           5      0.569     0.504     0.534      1000\n",
            "           6      0.689     0.752     0.719      1000\n",
            "           7      0.755     0.607     0.673      1000\n",
            "           8      0.796     0.777     0.786      1000\n",
            "           9      0.721     0.808     0.762      1000\n",
            "\n",
            "    accuracy                          0.658     10000\n",
            "   macro avg      0.661     0.658     0.657     10000\n",
            "weighted avg      0.661     0.658     0.657     10000\n",
            "\n"
          ]
        },
        {
          "data": {
            "image/png": "[encoded data removed]",
            "text/plain": [
              "<Figure size 1600x800 with 2 Axes>"
            ]
          },
          "metadata": {},
          "output_type": "display_data"
        }
      ],
      "source": [
        "model_name = 'cnn_cifar.pth'\n",
        "fig_path = 'results/cnn_cifar.png'\n",
        "\n",
        "# Train and test the models\n",
        "train(convnet, train_set, criterion, optimizer_convnet, batch_size, epochs, model_name, fig_path, device=device)\n",
        "test(convnet, test_set, criterion, 'cnn_cifar.pth', device=device)"
      ]
    },
    {
      "cell_type": "code",
      "execution_count": 42,
      "id": "D14iHfsejXeH",
      "metadata": {
        "colab": {
          "base_uri": "https://localhost:8080/",
          "height": 1000,
          "referenced_widgets": [
            "fa1357a13ee9423587ffd0e6b7685fbb",
            "4635b2056b834ec5aba90b75b7275329",
            "7688f54f71e342f9925cb7e2305ccead",
            "4a0bd02a5ae54f1e86e001d50b762d0d",
            "b4c9fe956e7f469aa359d9804cd14262",
            "0c92b2cf58e84fb0a885b606aa2c328e",
            "3becd19ebba44a4b80a429f5e82e6183",
            "6b5819ef11144ca3a5fa040813ae5ac2"
          ]
        },
        "id": "D14iHfsejXeH",
        "outputId": "a5736672-cb20-4723-df31-42cee7fad03e"
      },
      "outputs": [
        {
          "data": {
            "text/html": [
              "Finishing last run (ID:52mzddu0) before initializing another..."
            ],
            "text/plain": [
              "<IPython.core.display.HTML object>"
            ]
          },
          "metadata": {},
          "output_type": "display_data"
        },
        {
          "data": {
            "application/vnd.jupyter.widget-view+json": {
              "model_id": "fa1357a13ee9423587ffd0e6b7685fbb",
              "version_major": 2,
              "version_minor": 0
            },
            "text/plain": [
              "VBox(children=(Label(value='0.212 MB of 0.212 MB uploaded\\r'), FloatProgress(value=1.0, max=1.0)))"
            ]
          },
          "metadata": {},
          "output_type": "display_data"
        },
        {
          "data": {
            "text/html": [
              "<style>\n",
              "    table.wandb td:nth-child(1) { padding: 0 10px; text-align: left ; width: auto;} td:nth-child(2) {text-align: left ; width: 100%}\n",
              "    .wandb-row { display: flex; flex-direction: row; flex-wrap: wrap; justify-content: flex-start; width: 100% }\n",
              "    .wandb-col { display: flex; flex-direction: column; flex-basis: 100%; flex: 1; padding: 10px; }\n",
              "    </style>\n",
              "<div class=\"wandb-row\"><div class=\"wandb-col\"><h3>Run history:</h3><br/><table class=\"wandb\"><tr><td>epoch</td><td>▁▁▂▂▃▃▃▄▄▅▅▆▆▆▇▇██</td></tr><tr><td>train_loss</td><td>█▇▆▆▅▅▄▄▄▃▃▃▂▂▂▁▁▁</td></tr><tr><td>val_accuracy</td><td>▁▂▄▅▆▆▇▇█▇█████▇▇█</td></tr><tr><td>val_loss</td><td>█▇▅▄▃▃▂▂▁▂▁▁▁▂▂▃▃▃</td></tr></table><br/></div><div class=\"wandb-col\"><h3>Run summary:</h3><br/><table class=\"wandb\"><tr><td>epoch</td><td>17</td></tr><tr><td>train_loss</td><td>0.18973</td></tr><tr><td>val_accuracy</td><td>0.6606</td></tr><tr><td>val_loss</td><td>1.14749</td></tr></table><br/></div></div>"
            ],
            "text/plain": [
              "<IPython.core.display.HTML object>"
            ]
          },
          "metadata": {},
          "output_type": "display_data"
        },
        {
          "data": {
            "text/html": [
              " View run <strong style=\"color:#cdcd00\">fine-frog-39</strong> at: <a href='https://wandb.ai/thomasdelmoro/dla_lab1/runs/52mzddu0' target=\"_blank\">https://wandb.ai/thomasdelmoro/dla_lab1/runs/52mzddu0</a><br/> View project at: <a href='https://wandb.ai/thomasdelmoro/dla_lab1' target=\"_blank\">https://wandb.ai/thomasdelmoro/dla_lab1</a><br/>Synced 5 W&B file(s), 0 media file(s), 0 artifact file(s) and 0 other file(s)"
            ],
            "text/plain": [
              "<IPython.core.display.HTML object>"
            ]
          },
          "metadata": {},
          "output_type": "display_data"
        },
        {
          "data": {
            "text/html": [
              "Find logs at: <code>./wandb/run-20240823_152459-52mzddu0/logs</code>"
            ],
            "text/plain": [
              "<IPython.core.display.HTML object>"
            ]
          },
          "metadata": {},
          "output_type": "display_data"
        },
        {
          "data": {
            "text/html": [
              "The new W&B backend becomes opt-out in version 0.18.0; try it out with `wandb.require(\"core\")`! See https://wandb.me/wandb-core for more information."
            ],
            "text/plain": [
              "<IPython.core.display.HTML object>"
            ]
          },
          "metadata": {},
          "output_type": "display_data"
        },
        {
          "data": {
            "text/html": [
              "Successfully finished last run (ID:52mzddu0). Initializing new run:<br/>"
            ],
            "text/plain": [
              "<IPython.core.display.HTML object>"
            ]
          },
          "metadata": {},
          "output_type": "display_data"
        },
        {
          "data": {
            "text/html": [
              "Tracking run with wandb version 0.17.7"
            ],
            "text/plain": [
              "<IPython.core.display.HTML object>"
            ]
          },
          "metadata": {},
          "output_type": "display_data"
        },
        {
          "data": {
            "text/html": [
              "Run data is saved locally in <code>/content/wandb/run-20240823_154204-sewoxb4a</code>"
            ],
            "text/plain": [
              "<IPython.core.display.HTML object>"
            ]
          },
          "metadata": {},
          "output_type": "display_data"
        },
        {
          "data": {
            "text/html": [
              "Syncing run <strong><a href='https://wandb.ai/thomasdelmoro/dla_lab1/runs/sewoxb4a' target=\"_blank\">fragrant-rain-40</a></strong> to <a href='https://wandb.ai/thomasdelmoro/dla_lab1' target=\"_blank\">Weights & Biases</a> (<a href='https://wandb.me/run' target=\"_blank\">docs</a>)<br/>"
            ],
            "text/plain": [
              "<IPython.core.display.HTML object>"
            ]
          },
          "metadata": {},
          "output_type": "display_data"
        },
        {
          "data": {
            "text/html": [
              " View project at <a href='https://wandb.ai/thomasdelmoro/dla_lab1' target=\"_blank\">https://wandb.ai/thomasdelmoro/dla_lab1</a>"
            ],
            "text/plain": [
              "<IPython.core.display.HTML object>"
            ]
          },
          "metadata": {},
          "output_type": "display_data"
        },
        {
          "data": {
            "text/html": [
              " View run at <a href='https://wandb.ai/thomasdelmoro/dla_lab1/runs/sewoxb4a' target=\"_blank\">https://wandb.ai/thomasdelmoro/dla_lab1/runs/sewoxb4a</a>"
            ],
            "text/plain": [
              "<IPython.core.display.HTML object>"
            ]
          },
          "metadata": {},
          "output_type": "display_data"
        },
        {
          "name": "stdout",
          "output_type": "stream",
          "text": [
            "Training-Set Ready\n",
            "Validation-Set Ready\n",
            "Starting Training...\n"
          ]
        },
        {
          "name": "stderr",
          "output_type": "stream",
          "text": [
            "Training epoch 0: 100%|██████████| 704/704 [00:50<00:00, 13.94it/s]\n",
            "Training epoch 1: 100%|██████████| 704/704 [00:50<00:00, 14.04it/s]\n",
            "Training epoch 2: 100%|██████████| 704/704 [00:50<00:00, 14.05it/s]\n",
            "Training epoch 3: 100%|██████████| 704/704 [00:49<00:00, 14.10it/s]\n",
            "Training epoch 4: 100%|██████████| 704/704 [00:50<00:00, 14.07it/s]\n",
            "Training epoch 5: 100%|██████████| 704/704 [00:50<00:00, 14.05it/s]\n",
            "Training epoch 6: 100%|██████████| 704/704 [00:50<00:00, 14.06it/s]\n",
            "Training epoch 7: 100%|██████████| 704/704 [00:50<00:00, 14.07it/s]\n",
            "Training epoch 8: 100%|██████████| 704/704 [00:49<00:00, 14.10it/s]\n",
            "Training epoch 9: 100%|██████████| 704/704 [00:49<00:00, 14.08it/s]\n",
            "Training epoch 10: 100%|██████████| 704/704 [00:50<00:00, 13.97it/s]\n",
            "Training epoch 11: 100%|██████████| 704/704 [00:50<00:00, 13.87it/s]\n",
            "Training epoch 12: 100%|██████████| 704/704 [00:50<00:00, 13.93it/s]\n",
            "Training epoch 13: 100%|██████████| 704/704 [00:50<00:00, 14.01it/s]\n",
            "Training epoch 14: 100%|██████████| 704/704 [00:50<00:00, 13.93it/s]\n",
            "Training epoch 15: 100%|██████████| 704/704 [00:50<00:00, 13.90it/s]\n"
          ]
        },
        {
          "name": "stdout",
          "output_type": "stream",
          "text": [
            "Loading model...\n",
            "Model Loaded\n"
          ]
        },
        {
          "name": "stderr",
          "output_type": "stream",
          "text": []
        },
        {
          "name": "stdout",
          "output_type": "stream",
          "text": [
            "Test Accuracy: 0.6628\n",
            "              precision    recall  f1-score   support\n",
            "\n",
            "           0      0.603     0.770     0.677      1000\n",
            "           1      0.740     0.823     0.779      1000\n",
            "           2      0.595     0.504     0.546      1000\n",
            "           3      0.528     0.422     0.469      1000\n",
            "           4      0.627     0.590     0.608      1000\n",
            "           5      0.542     0.590     0.565      1000\n",
            "           6      0.750     0.750     0.750      1000\n",
            "           7      0.663     0.733     0.696      1000\n",
            "           8      0.887     0.654     0.753      1000\n",
            "           9      0.725     0.792     0.757      1000\n",
            "\n",
            "    accuracy                          0.663     10000\n",
            "   macro avg      0.666     0.663     0.660     10000\n",
            "weighted avg      0.666     0.663     0.660     10000\n",
            "\n"
          ]
        },
        {
          "data": {
            "image/png": "[encoded data removed]",
            "text/plain": [
              "<Figure size 1600x800 with 2 Axes>"
            ]
          },
          "metadata": {},
          "output_type": "display_data"
        }
      ],
      "source": [
        "model_name = 'resnet_cifar.pth'\n",
        "fig_path = 'results/resnet_cifar.png'\n",
        "\n",
        "# Train and test the models\n",
        "train(resnet, train_set, criterion, optimizer_resnet, batch_size, epochs, model_name, fig_path, device=device)\n",
        "test(resnet, test_set, criterion, 'resnet_cifar.pth', device=device)"
      ]
    },
    {
      "cell_type": "code",
      "execution_count": 14,
      "id": "55f33bfb",
      "metadata": {},
      "outputs": [
        {
          "name": "stdout",
          "output_type": "stream",
          "text": [
            "Loading model...\n",
            "Model Loaded\n"
          ]
        },
        {
          "name": "stderr",
          "output_type": "stream",
          "text": [
            "                                                             \r"
          ]
        },
        {
          "name": "stdout",
          "output_type": "stream",
          "text": [
            "Test Accuracy: 0.6579\n",
            "              precision    recall  f1-score   support\n",
            "\n",
            "           0      0.693     0.703     0.698      1000\n",
            "           1      0.769     0.837     0.801      1000\n",
            "           2      0.545     0.537     0.541      1000\n",
            "           3      0.441     0.543     0.487      1000\n",
            "           4      0.636     0.511     0.567      1000\n",
            "           5      0.569     0.504     0.534      1000\n",
            "           6      0.689     0.752     0.719      1000\n",
            "           7      0.755     0.607     0.673      1000\n",
            "           8      0.796     0.777     0.786      1000\n",
            "           9      0.721     0.808     0.762      1000\n",
            "\n",
            "    accuracy                          0.658     10000\n",
            "   macro avg      0.661     0.658     0.657     10000\n",
            "weighted avg      0.661     0.658     0.657     10000\n",
            "\n",
            "Loading model...\n",
            "Model Loaded\n"
          ]
        },
        {
          "name": "stderr",
          "output_type": "stream",
          "text": [
            "                                                             \r"
          ]
        },
        {
          "name": "stdout",
          "output_type": "stream",
          "text": [
            "Test Accuracy: 0.6628\n",
            "              precision    recall  f1-score   support\n",
            "\n",
            "           0      0.603     0.770     0.677      1000\n",
            "           1      0.740     0.823     0.779      1000\n",
            "           2      0.595     0.504     0.546      1000\n",
            "           3      0.528     0.422     0.469      1000\n",
            "           4      0.627     0.590     0.608      1000\n",
            "           5      0.542     0.590     0.565      1000\n",
            "           6      0.750     0.750     0.750      1000\n",
            "           7      0.663     0.733     0.696      1000\n",
            "           8      0.887     0.654     0.753      1000\n",
            "           9      0.725     0.792     0.757      1000\n",
            "\n",
            "    accuracy                          0.663     10000\n",
            "   macro avg      0.666     0.663     0.660     10000\n",
            "weighted avg      0.666     0.663     0.660     10000\n",
            "\n"
          ]
        }
      ],
      "source": [
        "convnet = ResNet([2, 2, 2, 2], 10, 3, skip_connection=False)\n",
        "resnet = ResNet([2, 2, 2, 2], 10, 3, skip_connection=True)\n",
        "\n",
        "\n",
        "test(convnet, test_set, criterion, 'cnn_cifar.pth', device=device)\n",
        "test(resnet, test_set, criterion, 'resnet_cifar.pth', device=device)"
      ]
    },
    {
      "cell_type": "markdown",
      "id": "ef4de2f2-abc5-4f98-9eaf-3497f734a022",
      "metadata": {
        "id": "ef4de2f2-abc5-4f98-9eaf-3497f734a022"
      },
      "source": [
        "-----\n",
        "## Exercise 2: Choose at Least One\n",
        "\n",
        "Below are **three** exercises that ask you to deepen your understanding of Deep Networks for visual recognition. You must choose **at least one** of the below for your final submission -- feel free to do **more**, but at least **ONE** you must submit."
      ]
    },
    {
      "cell_type": "markdown",
      "id": "07978e8e-9f2e-4949-9699-495af6cb6349",
      "metadata": {
        "id": "07978e8e-9f2e-4949-9699-495af6cb6349"
      },
      "source": [
        "### Exercise 2.1: Explain why Residual Connections are so effective\n",
        "Use your two models (with and without residual connections) you developed above to study and **quantify** why the residual versions of the networks learn more effectively.\n",
        "\n",
        "**Hint**: A good starting point might be looking at the gradient magnitudes passing through the networks during backpropagation."
      ]
    },
    {
      "cell_type": "code",
      "execution_count": null,
      "id": "469e81a3-08ca-4549-a2f8-f47cf5a0308b",
      "metadata": {
        "id": "469e81a3-08ca-4549-a2f8-f47cf5a0308b",
        "tags": []
      },
      "outputs": [],
      "source": [
        "# Your code here."
      ]
    },
    {
      "cell_type": "markdown",
      "id": "440a3a7b-2ed6-4f58-a1b7-5ab1fc432893",
      "metadata": {
        "id": "440a3a7b-2ed6-4f58-a1b7-5ab1fc432893"
      },
      "source": [
        "### Exercise 2.2: Fully-convolutionalize a network.\n",
        "Take one of your trained classifiers and **fully-convolutionalize** it. That is, turn it into a network that can predict classification outputs at *all* pixels in an input image. Can you turn this into a **detector** of handwritten digits? Give it a try.\n",
        "\n",
        "**Hint 1**: Sometimes the process of fully-convolutionalization is called \"network surgery\".\n",
        "\n",
        "**Hint 2**: To test your fully-convolutionalized networks you might want to write some functions to take random MNIST samples and embed them into a larger image (i.e. in a regular grid or at random positions)."
      ]
    },
    {
      "cell_type": "code",
      "execution_count": 8,
      "id": "0B5A9Kti-k_T",
      "metadata": {
        "colab": {
          "base_uri": "https://localhost:8080/"
        },
        "id": "0B5A9Kti-k_T",
        "outputId": "1b8e9b43-7b74-4e59-fffe-5a03c769174b",
        "tags": []
      },
      "outputs": [],
      "source": [
        "# Standard MNIST transform.\n",
        "transform = transforms.Compose([\n",
        "    transforms.ToTensor(),\n",
        "    transforms.Normalize((0.1307,), (0.3081,))\n",
        "])\n",
        "\n",
        "# Load MNIST train and test.\n",
        "train_set = MNIST(root='./data', train=True, download=True, transform=transform)\n",
        "test_set = MNIST(root='./data', train=False, download=True, transform=transform)"
      ]
    },
    {
      "cell_type": "markdown",
      "id": "Nj_zk8ZWlIzt",
      "metadata": {
        "id": "Nj_zk8ZWlIzt"
      },
      "source": [
        "###Architecture"
      ]
    },
    {
      "cell_type": "code",
      "execution_count": 9,
      "id": "X55898U_mfHm",
      "metadata": {
        "id": "X55898U_mfHm"
      },
      "outputs": [],
      "source": [
        "class CNN(nn.Module):\n",
        "    def __init__(self, input_channels, output_dim = 10):\n",
        "        super().__init__()\n",
        "        hidden_dim = 32\n",
        "        self.conv1 = nn.Conv2d(input_channels, hidden_dim, kernel_size=3, stride = 2, padding=1)\n",
        "        self.conv2 = nn.Conv2d(hidden_dim, hidden_dim * 2, kernel_size=3, stride = 2, padding=1)\n",
        "        self.conv3 = nn.Conv2d(hidden_dim * 2, hidden_dim * 4, kernel_size=3, stride = 1, padding=1)\n",
        "        self.conv4 = nn.Conv2d(hidden_dim * 4, hidden_dim * 8, kernel_size=3, stride = 1, padding=1)\n",
        "        self.classifier = nn.Sequential(\n",
        "            nn.Linear(12544, 256),\n",
        "            nn.ReLU(),\n",
        "            nn.Linear(256, output_dim)\n",
        "        )\n",
        "\n",
        "    def forward(self, x):\n",
        "        x = F.relu(self.conv1(x))\n",
        "        x = F.relu(self.conv2(x))\n",
        "        x = F.relu(self.conv3(x))\n",
        "        x = F.relu(self.conv4(x))\n",
        "        return self.classifier(x.flatten(1))"
      ]
    },
    {
      "cell_type": "code",
      "execution_count": 10,
      "id": "9e33c912-0716-44ef-a91b-47ca19a2b2cd",
      "metadata": {
        "id": "9e33c912-0716-44ef-a91b-47ca19a2b2cd",
        "tags": []
      },
      "outputs": [],
      "source": [
        "class FCN(nn.Module):\n",
        "\n",
        "    def __init__(self, pretrained_net, num_classes):\n",
        "        super().__init__()\n",
        "        self.num_classes = num_classes\n",
        "        self.pretrained_net = nn.Sequential(*list(pretrained_net.children())[:-1])\n",
        "        self.relu    = nn.ReLU(inplace=True)\n",
        "        self.deconv1 = nn.ConvTranspose2d(256, 128, kernel_size=3, stride=2, padding=1, dilation=1, output_padding=1)\n",
        "        self.bn1     = nn.BatchNorm2d(128)\n",
        "        self.deconv2 = nn.ConvTranspose2d(128, 64, kernel_size=3, stride=2, padding=1, dilation=1, output_padding=1)\n",
        "        self.bn2     = nn.BatchNorm2d(64)\n",
        "        self.classifier = nn.Conv2d(64, num_classes, kernel_size=1)\n",
        "\n",
        "    def forward(self, x):\n",
        "        output = self.pretrained_net(x)\n",
        "        score = self.bn1(self.relu(self.deconv1(output)))\n",
        "        score = self.bn2(self.relu(self.deconv2(score)))\n",
        "        score = self.classifier(score)\n",
        "        return score"
      ]
    },
    {
      "cell_type": "code",
      "execution_count": 11,
      "id": "04-if91ylYu7",
      "metadata": {
        "colab": {
          "base_uri": "https://localhost:8080/"
        },
        "id": "04-if91ylYu7",
        "outputId": "ada08b88-9231-462d-cf27-5345ca77bb96"
      },
      "outputs": [
        {
          "name": "stdout",
          "output_type": "stream",
          "text": [
            "FCN(\n",
            "  (pretrained_net): Sequential(\n",
            "    (0): Conv2d(1, 32, kernel_size=(3, 3), stride=(2, 2), padding=(1, 1))\n",
            "    (1): Conv2d(32, 64, kernel_size=(3, 3), stride=(2, 2), padding=(1, 1))\n",
            "    (2): Conv2d(64, 128, kernel_size=(3, 3), stride=(1, 1), padding=(1, 1))\n",
            "    (3): Conv2d(128, 256, kernel_size=(3, 3), stride=(1, 1), padding=(1, 1))\n",
            "  )\n",
            "  (relu): ReLU(inplace=True)\n",
            "  (deconv1): ConvTranspose2d(256, 128, kernel_size=(3, 3), stride=(2, 2), padding=(1, 1), output_padding=(1, 1))\n",
            "  (bn1): BatchNorm2d(128, eps=1e-05, momentum=0.1, affine=True, track_running_stats=True)\n",
            "  (deconv2): ConvTranspose2d(128, 64, kernel_size=(3, 3), stride=(2, 2), padding=(1, 1), output_padding=(1, 1))\n",
            "  (bn2): BatchNorm2d(64, eps=1e-05, momentum=0.1, affine=True, track_running_stats=True)\n",
            "  (classifier): Conv2d(64, 10, kernel_size=(1, 1), stride=(1, 1))\n",
            ")\n"
          ]
        }
      ],
      "source": [
        "# Training hyperparameters.\n",
        "epochs = 25\n",
        "batch_size = 64\n",
        "lr = 0.0001\n",
        "criterion = nn.CrossEntropyLoss()\n",
        "\n",
        "# Instantiate models and optimizer\n",
        "model = CNN(input_channels=1, output_dim=10)\n",
        "\n",
        "fcn_model = FCN(model, 10)\n",
        "optimizer = torch.optim.SGD(params=fcn_model.parameters(), lr=lr, momentum=0.9)\n",
        "\n",
        "model_name = 'fcn_mnist.pth'\n",
        "fig_path = 'results/fcn_mnist.png'\n",
        "print(fcn_model)"
      ]
    },
    {
      "cell_type": "code",
      "execution_count": null,
      "id": "uZApzT3Qsa10",
      "metadata": {
        "id": "uZApzT3Qsa10"
      },
      "outputs": [],
      "source": [
        "# Train the model\n",
        "train(fcn_model, train_set, criterion, optimizer, batch_size, epochs, model_name, fig_path, device=device, fully_conv=True)"
      ]
    },
    {
      "cell_type": "code",
      "execution_count": 12,
      "id": "wf1EX-xRFWyt",
      "metadata": {
        "id": "wf1EX-xRFWyt"
      },
      "outputs": [],
      "source": [
        "fcn_model = torch.load('./trained_models/fcn_model_mnist.pth', map_location=device)"
      ]
    },
    {
      "cell_type": "markdown",
      "id": "-izu3CBnlO-A",
      "metadata": {
        "id": "-izu3CBnlO-A"
      },
      "source": [
        "###Custom MNIST Dataset\n",
        "Create a new custom dataset of handwritten digits with images of size 64x64"
      ]
    },
    {
      "cell_type": "code",
      "execution_count": 13,
      "id": "zgsiPxjmlNBh",
      "metadata": {
        "id": "zgsiPxjmlNBh"
      },
      "outputs": [],
      "source": [
        "from torch.utils.data import Dataset\n",
        "from PIL import Image\n",
        "import numpy as np\n",
        "\n",
        "class CustomMNIST(Dataset):\n",
        "    def __init__(self, root, train=True, transform=None, target_transform=None, download=False, image_size=64):\n",
        "        super().__init__()\n",
        "        self.dataset = MNIST(root, train, transform, target_transform, download)\n",
        "        self.transform = transform\n",
        "        self.image_size = image_size\n",
        "\n",
        "    def __getitem__(self, index):\n",
        "        img, target = self.dataset[index]\n",
        "        #make a new image and place the original image somewhere in the new image\n",
        "        new_img = Image.new('1', (self.image_size, self.image_size), 0)\n",
        "        convert_to_pil = transforms.ToPILImage()\n",
        "        new_img = self.transform(new_img)\n",
        "        #sum the two tensors but img is shifted by 16 pixels\n",
        "        #pick two random numbers between 0 and 32\n",
        "        x = np.random.randint(0, self.image_size - 28)\n",
        "        y = np.random.randint(0, self.image_size - 28)\n",
        "        #sum two tensors of different shape\n",
        "        new_img[:,x:x+28, y:y+28] = img\n",
        "        return new_img, target, x, y\n",
        "\n",
        "    def __len__(self):\n",
        "        return len(self.dataset)"
      ]
    },
    {
      "cell_type": "code",
      "execution_count": 40,
      "id": "rmL10Km1s-HW",
      "metadata": {
        "colab": {
          "base_uri": "https://localhost:8080/",
          "height": 452
        },
        "id": "rmL10Km1s-HW",
        "outputId": "fc604bc5-9e8b-4827-af89-4d4b95a6b005"
      },
      "outputs": [
        {
          "data": {
            "image/png": "[encoded data removed]",
            "text/plain": [
              "<Figure size 640x480 with 1 Axes>"
            ]
          },
          "metadata": {},
          "output_type": "display_data"
        }
      ],
      "source": [
        "transform = transforms.Compose([\n",
        "        transforms.ToTensor(),\n",
        "        transforms.Normalize((0.1307,), (0.3081,))\n",
        "    ])\n",
        "\n",
        "cust_mnist = CustomMNIST(root='./data', train=False, download=True, transform=transform, image_size=64)\n",
        "# Show an example image\n",
        "img, target, _, _ = cust_mnist[10]\n",
        "img = img.permute(1,2,0)\n",
        "plt.imshow(img, cmap='gray')\n",
        "plt.title(target)\n",
        "plt.show()\n"
      ]
    },
    {
      "cell_type": "code",
      "execution_count": 35,
      "id": "jKzbBM2BtfC_",
      "metadata": {
        "colab": {
          "base_uri": "https://localhost:8080/",
          "height": 448
        },
        "id": "jKzbBM2BtfC_",
        "outputId": "380e62b8-5d3b-46cb-cf57-a6070c6d93a3"
      },
      "outputs": [
        {
          "data": {
            "image/png": "[encoded data removed]",
            "text/plain": [
              "<Figure size 500x500 with 1 Axes>"
            ]
          },
          "metadata": {},
          "output_type": "display_data"
        }
      ],
      "source": [
        "# Show predictions of the FCN Model\n",
        "img, _, _, _= cust_mnist[10]\n",
        "img = img.unsqueeze(0).to(device)\n",
        "output = fcn_model(img)\n",
        "pred = torch.argmax(output, 1).squeeze()\n",
        "\n",
        "plt.figure(figsize=(5,5))\n",
        "plt.imshow(img.cpu().squeeze().numpy(), cmap = 'gray')\n",
        "for i in range(3, pred.shape[0], 4):\n",
        "    for j in range(3, pred.shape[1], 4):\n",
        "        plt.text(j, i, str(pred[i,j].item()),ha='center', va='center', color = 'yellow', fontsize = 12)\n",
        "plt.show()"
      ]
    },
    {
      "cell_type": "markdown",
      "id": "8243f811-8227-4c6f-b07f-56e8cd91643a",
      "metadata": {
        "id": "8243f811-8227-4c6f-b07f-56e8cd91643a"
      },
      "source": [
        "### Exercise 2.3: *Explain* the predictions of a CNN\n",
        "\n",
        "Use the CNN model you trained in Exercise 1.2 and implement [*Class Activation Maps*](http://cnnlocalization.csail.mit.edu/#:~:text=A%20class%20activation%20map%20for,decision%20made%20by%20the%20CNN.):\n",
        "\n",
        "> B. Zhou, A. Khosla, A. Lapedriza, A. Oliva, and A. Torralba. Learning Deep Features for Discriminative Localization. CVPR'16 (arXiv:1512.04150, 2015).\n",
        "\n",
        "Use your implementation to demonstrate how your trained CNN *attends* to specific image features to recognize *specific* classes.\n",
        "\n",
        "**Note**: Feel free to implement [Grad-CAM](https://arxiv.org/abs/1610.02391) instead of CAM."
      ]
    },
    {
      "cell_type": "code",
      "execution_count": 1,
      "id": "q2VvJs5RJzm1",
      "metadata": {
        "id": "q2VvJs5RJzm1"
      },
      "outputs": [
        {
          "ename": "ModuleNotFoundError",
          "evalue": "No module named 'cv2'",
          "output_type": "error",
          "traceback": [
            "\u001b[1;31m---------------------------------------------------------------------------\u001b[0m",
            "\u001b[1;31mModuleNotFoundError\u001b[0m                       Traceback (most recent call last)",
            "Cell \u001b[1;32mIn[1], line 1\u001b[0m\n\u001b[1;32m----> 1\u001b[0m \u001b[38;5;28;01mimport\u001b[39;00m \u001b[38;5;21;01mcv2\u001b[39;00m\n\u001b[0;32m      2\u001b[0m \u001b[38;5;28;01mimport\u001b[39;00m \u001b[38;5;21;01mnumpy\u001b[39;00m \u001b[38;5;28;01mas\u001b[39;00m \u001b[38;5;21;01mnp\u001b[39;00m\n\u001b[0;32m      3\u001b[0m \u001b[38;5;28;01mfrom\u001b[39;00m \u001b[38;5;21;01mscipy\u001b[39;00m\u001b[38;5;21;01m.\u001b[39;00m\u001b[38;5;21;01mndimage\u001b[39;00m \u001b[38;5;28;01mimport\u001b[39;00m zoom\n",
            "\u001b[1;31mModuleNotFoundError\u001b[0m: No module named 'cv2'"
          ]
        }
      ],
      "source": [
        "import cv2\n",
        "import numpy as np\n",
        "from scipy.ndimage import zoom\n",
        "\n",
        "class GradCam(nn.Module):\n",
        "    def __init__(self, model):\n",
        "        super().__init__()\n",
        "        self.gradients = None\n",
        "\n",
        "        self.convs = nn.Sequential(*list(model.children())[:-2])\n",
        "        self.pooling = model.pooling\n",
        "        self.fc = model.fc\n",
        "\n",
        "    def activations_hook(self, grad):\n",
        "        self.gradients = grad\n",
        "\n",
        "    def forward(self, x):\n",
        "        x = self.convs(x)\n",
        "        h = x.register_hook(self.activations_hook)\n",
        "        x = self.pooling(x)\n",
        "        x = torch.flatten(x, 1)\n",
        "        x = self.fc(x)\n",
        "        return x\n",
        "\n",
        "    def get_gradients(self):\n",
        "        return self.gradients\n",
        "\n",
        "    def get_activations(self, x):\n",
        "        return self.convs(x)\n",
        "\n",
        "\n",
        "def generate_heatmap(model, image, label):\n",
        "    loss = F.cross_entropy(model(image), label)\n",
        "    loss.backward()\n",
        "\n",
        "    grads = model.get_gradients()\n",
        "\n",
        "    # pool the gradients across the channels\n",
        "    pooled_gradients = torch.mean(grads, dim=[0, 2, 3])\n",
        "\n",
        "    # get the activations of the last layer\n",
        "    activations = model.get_activations(image).detach()\n",
        "\n",
        "    # weight the channels by corresponding gradients\n",
        "    for i in range(activations.shape[1]):\n",
        "        activations[:, i, :, :] *= pooled_gradients[i]\n",
        "\n",
        "    # average the channels of the activations\n",
        "    heatmap = torch.mean(activations, dim=1).squeeze()\n",
        "\n",
        "    # ReLU on the heatmap\n",
        "    heatmap = F.relu(heatmap)\n",
        "\n",
        "    # normalize the heatmap\n",
        "    heatmap /= torch.max(heatmap)\n",
        "\n",
        "    return heatmap.detach()"
      ]
    },
    {
      "cell_type": "code",
      "execution_count": 91,
      "id": "dhyu6wwNLP-v",
      "metadata": {
        "id": "dhyu6wwNLP-v"
      },
      "outputs": [],
      "source": [
        "def show_heatmap(image, heatmap):\n",
        "    # Plot the original image, heatmap and overlayed image\n",
        "    plt.figure(figsize=(15, 15))\n",
        "    plt.subplot(1, 3, 1)\n",
        "    plt.imshow(image.permute(1, 2, 0))\n",
        "    plt.title('Original Image')\n",
        "    plt.axis('off')\n",
        "\n",
        "    # Resize heatmap to the original image size\n",
        "    heatmap = zoom(heatmap.numpy(), (image.shape[1] / heatmap.shape[0], image.shape[2] / heatmap.shape[1]))\n",
        "    plt.subplot(1, 3, 2)\n",
        "    plt.imshow(heatmap)\n",
        "    plt.title('Heatmap')\n",
        "    plt.axis('off')\n",
        "\n",
        "    plt.subplot(1, 3, 3)\n",
        "    plt.imshow(image.permute(1, 2, 0))\n",
        "    plt.imshow(heatmap, alpha=0.7)\n",
        "    plt.title('Overlayed Image')\n",
        "    plt.axis('off')\n",
        "\n",
        "    plt.show()"
      ]
    },
    {
      "cell_type": "code",
      "execution_count": 67,
      "id": "HxCrpMf-Ltju",
      "metadata": {
        "colab": {
          "base_uri": "https://localhost:8080/"
        },
        "id": "HxCrpMf-Ltju",
        "outputId": "fda538de-bf8b-4d1d-dc7a-ea7d809b7050"
      },
      "outputs": [
        {
          "name": "stdout",
          "output_type": "stream",
          "text": [
            "Files already downloaded and verified\n"
          ]
        }
      ],
      "source": [
        "# Load CIFAR10 data\n",
        "transform = transforms.Compose([\n",
        "    transforms.ToTensor(),\n",
        "    transforms.Normalize((0.4914, 0.4822, 0.4465), (0.2023, 0.1994, 0.2010))\n",
        "])\n",
        "\n",
        "data = CIFAR10(root='../data', train=False, download=True, transform=transform)"
      ]
    },
    {
      "cell_type": "code",
      "execution_count": 68,
      "id": "4-y4sMJxJ7JI",
      "metadata": {
        "colab": {
          "base_uri": "https://localhost:8080/"
        },
        "id": "4-y4sMJxJ7JI",
        "outputId": "7e3eead6-1958-4bf7-8995-f539d122703c"
      },
      "outputs": [
        {
          "data": {
            "text/plain": [
              "<All keys matched successfully>"
            ]
          },
          "execution_count": 68,
          "metadata": {},
          "output_type": "execute_result"
        }
      ],
      "source": [
        "convnet = ResNet([2, 2, 2, 2], 10, 3, skip_connection=False)\n",
        "convnet.load_state_dict(torch.load(os.path.join('./trained_models/', 'cnn_cifar.pth'), map_location=device))"
      ]
    },
    {
      "cell_type": "code",
      "execution_count": 92,
      "id": "A4YV-SxzK_ti",
      "metadata": {
        "colab": {
          "base_uri": "https://localhost:8080/",
          "height": 350
        },
        "id": "A4YV-SxzK_ti",
        "outputId": "79cb7ff1-a7c6-494e-c79f-a42c4370362e"
      },
      "outputs": [
        {
          "name": "stderr",
          "output_type": "stream",
          "text": [
            "WARNING:matplotlib.image:Clipping input data to the valid range for imshow with RGB data ([0..1] for floats or [0..255] for integers).\n",
            "WARNING:matplotlib.image:Clipping input data to the valid range for imshow with RGB data ([0..1] for floats or [0..255] for integers).\n"
          ]
        },
        {
          "data": {
            "image/png": "[encoded data removed]",
            "text/plain": [
              "<Figure size 1500x1500 with 3 Axes>"
            ]
          },
          "metadata": {},
          "output_type": "display_data"
        }
      ],
      "source": [
        "convnet.eval()\n",
        "gradcam = GradCam(convnet)\n",
        "\n",
        "# get random image from the test set\n",
        "xs, ys = data[100]\n",
        "image = xs\n",
        "xs = xs.unsqueeze(0).to(device)\n",
        "ys = torch.tensor([ys]).to(device)\n",
        "\n",
        "heatmap = generate_heatmap(gradcam, xs, ys)\n",
        "show_heatmap(image, heatmap)"
      ]
    }
  ],
  "metadata": {
    "accelerator": "GPU",
    "colab": {
      "gpuType": "T4",
      "provenance": []
    },
    "kernelspec": {
      "display_name": "Python 3",
      "name": "python3"
    },
    "language_info": {
      "codemirror_mode": {
        "name": "ipython",
        "version": 3
      },
      "file_extension": ".py",
      "mimetype": "text/x-python",
      "name": "python",
      "nbconvert_exporter": "python",
      "pygments_lexer": "ipython3",
      "version": "3.11.7"
    },
    "widgets": {
      "application/vnd.jupyter.widget-state+json": {
        "007efc9a273a4ad59e944a5e9486d19c": {
          "model_module": "@jupyter-widgets/base",
          "model_module_version": "1.2.0",
          "model_name": "LayoutModel",
          "state": {
            "_model_module": "@jupyter-widgets/base",
            "_model_module_version": "1.2.0",
            "_model_name": "LayoutModel",
            "_view_count": null,
            "_view_module": "@jupyter-widgets/base",
            "_view_module_version": "1.2.0",
            "_view_name": "LayoutView",
            "align_content": null,
            "align_items": null,
            "align_self": null,
            "border": null,
            "bottom": null,
            "display": null,
            "flex": null,
            "flex_flow": null,
            "grid_area": null,
            "grid_auto_columns": null,
            "grid_auto_flow": null,
            "grid_auto_rows": null,
            "grid_column": null,
            "grid_gap": null,
            "grid_row": null,
            "grid_template_areas": null,
            "grid_template_columns": null,
            "grid_template_rows": null,
            "height": null,
            "justify_content": null,
            "justify_items": null,
            "left": null,
            "margin": null,
            "max_height": null,
            "max_width": null,
            "min_height": null,
            "min_width": null,
            "object_fit": null,
            "object_position": null,
            "order": null,
            "overflow": null,
            "overflow_x": null,
            "overflow_y": null,
            "padding": null,
            "right": null,
            "top": null,
            "visibility": null,
            "width": null
          }
        },
        "03acbc2f669b4badbc72f6f1c328c55f": {
          "model_module": "@jupyter-widgets/controls",
          "model_module_version": "1.5.0",
          "model_name": "ProgressStyleModel",
          "state": {
            "_model_module": "@jupyter-widgets/controls",
            "_model_module_version": "1.5.0",
            "_model_name": "ProgressStyleModel",
            "_view_count": null,
            "_view_module": "@jupyter-widgets/base",
            "_view_module_version": "1.2.0",
            "_view_name": "StyleView",
            "bar_color": null,
            "description_width": ""
          }
        },
        "0c92b2cf58e84fb0a885b606aa2c328e": {
          "model_module": "@jupyter-widgets/controls",
          "model_module_version": "1.5.0",
          "model_name": "DescriptionStyleModel",
          "state": {
            "_model_module": "@jupyter-widgets/controls",
            "_model_module_version": "1.5.0",
            "_model_name": "DescriptionStyleModel",
            "_view_count": null,
            "_view_module": "@jupyter-widgets/base",
            "_view_module_version": "1.2.0",
            "_view_name": "StyleView",
            "description_width": ""
          }
        },
        "14513d8c844c4f37aa2c4c3033140cb4": {
          "model_module": "@jupyter-widgets/controls",
          "model_module_version": "1.5.0",
          "model_name": "ProgressStyleModel",
          "state": {
            "_model_module": "@jupyter-widgets/controls",
            "_model_module_version": "1.5.0",
            "_model_name": "ProgressStyleModel",
            "_view_count": null,
            "_view_module": "@jupyter-widgets/base",
            "_view_module_version": "1.2.0",
            "_view_name": "StyleView",
            "bar_color": null,
            "description_width": ""
          }
        },
        "1a8c0913f1014af1b803f0b8d7808827": {
          "model_module": "@jupyter-widgets/controls",
          "model_module_version": "1.5.0",
          "model_name": "LabelModel",
          "state": {
            "_dom_classes": [],
            "_model_module": "@jupyter-widgets/controls",
            "_model_module_version": "1.5.0",
            "_model_name": "LabelModel",
            "_view_count": null,
            "_view_module": "@jupyter-widgets/controls",
            "_view_module_version": "1.5.0",
            "_view_name": "LabelView",
            "description": "",
            "description_tooltip": null,
            "layout": "IPY_MODEL_d344fb51fb244ff3a446719f546d258d",
            "placeholder": "​",
            "style": "IPY_MODEL_68615777391a4cc9830654cf08216085",
            "value": "0.049 MB of 0.049 MB uploaded\r"
          }
        },
        "26efce0f5ed14f00b1d1b06a439363db": {
          "model_module": "@jupyter-widgets/controls",
          "model_module_version": "1.5.0",
          "model_name": "LabelModel",
          "state": {
            "_dom_classes": [],
            "_model_module": "@jupyter-widgets/controls",
            "_model_module_version": "1.5.0",
            "_model_name": "LabelModel",
            "_view_count": null,
            "_view_module": "@jupyter-widgets/controls",
            "_view_module_version": "1.5.0",
            "_view_name": "LabelView",
            "description": "",
            "description_tooltip": null,
            "layout": "IPY_MODEL_49ab1f8c33624e47a4528c71ad584700",
            "placeholder": "​",
            "style": "IPY_MODEL_7dfd994e38054f38b5585dc691ac1111",
            "value": "0.049 MB of 0.049 MB uploaded\r"
          }
        },
        "2f3c8974be534a79b3fbd6aa88fd96aa": {
          "model_module": "@jupyter-widgets/base",
          "model_module_version": "1.2.0",
          "model_name": "LayoutModel",
          "state": {
            "_model_module": "@jupyter-widgets/base",
            "_model_module_version": "1.2.0",
            "_model_name": "LayoutModel",
            "_view_count": null,
            "_view_module": "@jupyter-widgets/base",
            "_view_module_version": "1.2.0",
            "_view_name": "LayoutView",
            "align_content": null,
            "align_items": null,
            "align_self": null,
            "border": null,
            "bottom": null,
            "display": null,
            "flex": null,
            "flex_flow": null,
            "grid_area": null,
            "grid_auto_columns": null,
            "grid_auto_flow": null,
            "grid_auto_rows": null,
            "grid_column": null,
            "grid_gap": null,
            "grid_row": null,
            "grid_template_areas": null,
            "grid_template_columns": null,
            "grid_template_rows": null,
            "height": null,
            "justify_content": null,
            "justify_items": null,
            "left": null,
            "margin": null,
            "max_height": null,
            "max_width": null,
            "min_height": null,
            "min_width": null,
            "object_fit": null,
            "object_position": null,
            "order": null,
            "overflow": null,
            "overflow_x": null,
            "overflow_y": null,
            "padding": null,
            "right": null,
            "top": null,
            "visibility": null,
            "width": null
          }
        },
        "301e25612938498484252a81c27f6daa": {
          "model_module": "@jupyter-widgets/controls",
          "model_module_version": "1.5.0",
          "model_name": "FloatProgressModel",
          "state": {
            "_dom_classes": [],
            "_model_module": "@jupyter-widgets/controls",
            "_model_module_version": "1.5.0",
            "_model_name": "FloatProgressModel",
            "_view_count": null,
            "_view_module": "@jupyter-widgets/controls",
            "_view_module_version": "1.5.0",
            "_view_name": "ProgressView",
            "bar_style": "",
            "description": "",
            "description_tooltip": null,
            "layout": "IPY_MODEL_5aa9915edc7d4b93b765f31d4888f587",
            "max": 1,
            "min": 0,
            "orientation": "horizontal",
            "style": "IPY_MODEL_14513d8c844c4f37aa2c4c3033140cb4",
            "value": 1
          }
        },
        "3414426fdd32479e9af31d998a5cc355": {
          "model_module": "@jupyter-widgets/base",
          "model_module_version": "1.2.0",
          "model_name": "LayoutModel",
          "state": {
            "_model_module": "@jupyter-widgets/base",
            "_model_module_version": "1.2.0",
            "_model_name": "LayoutModel",
            "_view_count": null,
            "_view_module": "@jupyter-widgets/base",
            "_view_module_version": "1.2.0",
            "_view_name": "LayoutView",
            "align_content": null,
            "align_items": null,
            "align_self": null,
            "border": null,
            "bottom": null,
            "display": null,
            "flex": null,
            "flex_flow": null,
            "grid_area": null,
            "grid_auto_columns": null,
            "grid_auto_flow": null,
            "grid_auto_rows": null,
            "grid_column": null,
            "grid_gap": null,
            "grid_row": null,
            "grid_template_areas": null,
            "grid_template_columns": null,
            "grid_template_rows": null,
            "height": null,
            "justify_content": null,
            "justify_items": null,
            "left": null,
            "margin": null,
            "max_height": null,
            "max_width": null,
            "min_height": null,
            "min_width": null,
            "object_fit": null,
            "object_position": null,
            "order": null,
            "overflow": null,
            "overflow_x": null,
            "overflow_y": null,
            "padding": null,
            "right": null,
            "top": null,
            "visibility": null,
            "width": null
          }
        },
        "36fe2e38b757408dabb1582a4a7e76a7": {
          "model_module": "@jupyter-widgets/controls",
          "model_module_version": "1.5.0",
          "model_name": "VBoxModel",
          "state": {
            "_dom_classes": [],
            "_model_module": "@jupyter-widgets/controls",
            "_model_module_version": "1.5.0",
            "_model_name": "VBoxModel",
            "_view_count": null,
            "_view_module": "@jupyter-widgets/controls",
            "_view_module_version": "1.5.0",
            "_view_name": "VBoxView",
            "box_style": "",
            "children": [
              "IPY_MODEL_26efce0f5ed14f00b1d1b06a439363db",
              "IPY_MODEL_d2514ae71b53449fb0bebf0336fd5d9a"
            ],
            "layout": "IPY_MODEL_3414426fdd32479e9af31d998a5cc355"
          }
        },
        "3becd19ebba44a4b80a429f5e82e6183": {
          "model_module": "@jupyter-widgets/base",
          "model_module_version": "1.2.0",
          "model_name": "LayoutModel",
          "state": {
            "_model_module": "@jupyter-widgets/base",
            "_model_module_version": "1.2.0",
            "_model_name": "LayoutModel",
            "_view_count": null,
            "_view_module": "@jupyter-widgets/base",
            "_view_module_version": "1.2.0",
            "_view_name": "LayoutView",
            "align_content": null,
            "align_items": null,
            "align_self": null,
            "border": null,
            "bottom": null,
            "display": null,
            "flex": null,
            "flex_flow": null,
            "grid_area": null,
            "grid_auto_columns": null,
            "grid_auto_flow": null,
            "grid_auto_rows": null,
            "grid_column": null,
            "grid_gap": null,
            "grid_row": null,
            "grid_template_areas": null,
            "grid_template_columns": null,
            "grid_template_rows": null,
            "height": null,
            "justify_content": null,
            "justify_items": null,
            "left": null,
            "margin": null,
            "max_height": null,
            "max_width": null,
            "min_height": null,
            "min_width": null,
            "object_fit": null,
            "object_position": null,
            "order": null,
            "overflow": null,
            "overflow_x": null,
            "overflow_y": null,
            "padding": null,
            "right": null,
            "top": null,
            "visibility": null,
            "width": null
          }
        },
        "3f939c509bd542559ba8b567f5b512aa": {
          "model_module": "@jupyter-widgets/controls",
          "model_module_version": "1.5.0",
          "model_name": "FloatProgressModel",
          "state": {
            "_dom_classes": [],
            "_model_module": "@jupyter-widgets/controls",
            "_model_module_version": "1.5.0",
            "_model_name": "FloatProgressModel",
            "_view_count": null,
            "_view_module": "@jupyter-widgets/controls",
            "_view_module_version": "1.5.0",
            "_view_name": "ProgressView",
            "bar_style": "",
            "description": "",
            "description_tooltip": null,
            "layout": "IPY_MODEL_9e50fbbf1bc74ba38943c0eaa4e8261e",
            "max": 1,
            "min": 0,
            "orientation": "horizontal",
            "style": "IPY_MODEL_523a01720ce1467c9d8dbee025187ecc",
            "value": 1
          }
        },
        "41a9bb2be9ce4e86be05a0fc5e546e80": {
          "model_module": "@jupyter-widgets/controls",
          "model_module_version": "1.5.0",
          "model_name": "VBoxModel",
          "state": {
            "_dom_classes": [],
            "_model_module": "@jupyter-widgets/controls",
            "_model_module_version": "1.5.0",
            "_model_name": "VBoxModel",
            "_view_count": null,
            "_view_module": "@jupyter-widgets/controls",
            "_view_module_version": "1.5.0",
            "_view_name": "VBoxView",
            "box_style": "",
            "children": [
              "IPY_MODEL_7fe2f5d1329b48169e9f719401a58d89",
              "IPY_MODEL_3f939c509bd542559ba8b567f5b512aa"
            ],
            "layout": "IPY_MODEL_2f3c8974be534a79b3fbd6aa88fd96aa"
          }
        },
        "420a52b7e4d64f24b2e7c5e2acf40b08": {
          "model_module": "@jupyter-widgets/controls",
          "model_module_version": "1.5.0",
          "model_name": "VBoxModel",
          "state": {
            "_dom_classes": [],
            "_model_module": "@jupyter-widgets/controls",
            "_model_module_version": "1.5.0",
            "_model_name": "VBoxModel",
            "_view_count": null,
            "_view_module": "@jupyter-widgets/controls",
            "_view_module_version": "1.5.0",
            "_view_name": "VBoxView",
            "box_style": "",
            "children": [
              "IPY_MODEL_1a8c0913f1014af1b803f0b8d7808827",
              "IPY_MODEL_301e25612938498484252a81c27f6daa"
            ],
            "layout": "IPY_MODEL_007efc9a273a4ad59e944a5e9486d19c"
          }
        },
        "4635b2056b834ec5aba90b75b7275329": {
          "model_module": "@jupyter-widgets/controls",
          "model_module_version": "1.5.0",
          "model_name": "LabelModel",
          "state": {
            "_dom_classes": [],
            "_model_module": "@jupyter-widgets/controls",
            "_model_module_version": "1.5.0",
            "_model_name": "LabelModel",
            "_view_count": null,
            "_view_module": "@jupyter-widgets/controls",
            "_view_module_version": "1.5.0",
            "_view_name": "LabelView",
            "description": "",
            "description_tooltip": null,
            "layout": "IPY_MODEL_b4c9fe956e7f469aa359d9804cd14262",
            "placeholder": "​",
            "style": "IPY_MODEL_0c92b2cf58e84fb0a885b606aa2c328e",
            "value": "0.212 MB of 0.212 MB uploaded\r"
          }
        },
        "49ab1f8c33624e47a4528c71ad584700": {
          "model_module": "@jupyter-widgets/base",
          "model_module_version": "1.2.0",
          "model_name": "LayoutModel",
          "state": {
            "_model_module": "@jupyter-widgets/base",
            "_model_module_version": "1.2.0",
            "_model_name": "LayoutModel",
            "_view_count": null,
            "_view_module": "@jupyter-widgets/base",
            "_view_module_version": "1.2.0",
            "_view_name": "LayoutView",
            "align_content": null,
            "align_items": null,
            "align_self": null,
            "border": null,
            "bottom": null,
            "display": null,
            "flex": null,
            "flex_flow": null,
            "grid_area": null,
            "grid_auto_columns": null,
            "grid_auto_flow": null,
            "grid_auto_rows": null,
            "grid_column": null,
            "grid_gap": null,
            "grid_row": null,
            "grid_template_areas": null,
            "grid_template_columns": null,
            "grid_template_rows": null,
            "height": null,
            "justify_content": null,
            "justify_items": null,
            "left": null,
            "margin": null,
            "max_height": null,
            "max_width": null,
            "min_height": null,
            "min_width": null,
            "object_fit": null,
            "object_position": null,
            "order": null,
            "overflow": null,
            "overflow_x": null,
            "overflow_y": null,
            "padding": null,
            "right": null,
            "top": null,
            "visibility": null,
            "width": null
          }
        },
        "4a0bd02a5ae54f1e86e001d50b762d0d": {
          "model_module": "@jupyter-widgets/base",
          "model_module_version": "1.2.0",
          "model_name": "LayoutModel",
          "state": {
            "_model_module": "@jupyter-widgets/base",
            "_model_module_version": "1.2.0",
            "_model_name": "LayoutModel",
            "_view_count": null,
            "_view_module": "@jupyter-widgets/base",
            "_view_module_version": "1.2.0",
            "_view_name": "LayoutView",
            "align_content": null,
            "align_items": null,
            "align_self": null,
            "border": null,
            "bottom": null,
            "display": null,
            "flex": null,
            "flex_flow": null,
            "grid_area": null,
            "grid_auto_columns": null,
            "grid_auto_flow": null,
            "grid_auto_rows": null,
            "grid_column": null,
            "grid_gap": null,
            "grid_row": null,
            "grid_template_areas": null,
            "grid_template_columns": null,
            "grid_template_rows": null,
            "height": null,
            "justify_content": null,
            "justify_items": null,
            "left": null,
            "margin": null,
            "max_height": null,
            "max_width": null,
            "min_height": null,
            "min_width": null,
            "object_fit": null,
            "object_position": null,
            "order": null,
            "overflow": null,
            "overflow_x": null,
            "overflow_y": null,
            "padding": null,
            "right": null,
            "top": null,
            "visibility": null,
            "width": null
          }
        },
        "523a01720ce1467c9d8dbee025187ecc": {
          "model_module": "@jupyter-widgets/controls",
          "model_module_version": "1.5.0",
          "model_name": "ProgressStyleModel",
          "state": {
            "_model_module": "@jupyter-widgets/controls",
            "_model_module_version": "1.5.0",
            "_model_name": "ProgressStyleModel",
            "_view_count": null,
            "_view_module": "@jupyter-widgets/base",
            "_view_module_version": "1.2.0",
            "_view_name": "StyleView",
            "bar_color": null,
            "description_width": ""
          }
        },
        "54c0e0475a8f4101a317c6bbd02a9ae5": {
          "model_module": "@jupyter-widgets/base",
          "model_module_version": "1.2.0",
          "model_name": "LayoutModel",
          "state": {
            "_model_module": "@jupyter-widgets/base",
            "_model_module_version": "1.2.0",
            "_model_name": "LayoutModel",
            "_view_count": null,
            "_view_module": "@jupyter-widgets/base",
            "_view_module_version": "1.2.0",
            "_view_name": "LayoutView",
            "align_content": null,
            "align_items": null,
            "align_self": null,
            "border": null,
            "bottom": null,
            "display": null,
            "flex": null,
            "flex_flow": null,
            "grid_area": null,
            "grid_auto_columns": null,
            "grid_auto_flow": null,
            "grid_auto_rows": null,
            "grid_column": null,
            "grid_gap": null,
            "grid_row": null,
            "grid_template_areas": null,
            "grid_template_columns": null,
            "grid_template_rows": null,
            "height": null,
            "justify_content": null,
            "justify_items": null,
            "left": null,
            "margin": null,
            "max_height": null,
            "max_width": null,
            "min_height": null,
            "min_width": null,
            "object_fit": null,
            "object_position": null,
            "order": null,
            "overflow": null,
            "overflow_x": null,
            "overflow_y": null,
            "padding": null,
            "right": null,
            "top": null,
            "visibility": null,
            "width": null
          }
        },
        "5aa9915edc7d4b93b765f31d4888f587": {
          "model_module": "@jupyter-widgets/base",
          "model_module_version": "1.2.0",
          "model_name": "LayoutModel",
          "state": {
            "_model_module": "@jupyter-widgets/base",
            "_model_module_version": "1.2.0",
            "_model_name": "LayoutModel",
            "_view_count": null,
            "_view_module": "@jupyter-widgets/base",
            "_view_module_version": "1.2.0",
            "_view_name": "LayoutView",
            "align_content": null,
            "align_items": null,
            "align_self": null,
            "border": null,
            "bottom": null,
            "display": null,
            "flex": null,
            "flex_flow": null,
            "grid_area": null,
            "grid_auto_columns": null,
            "grid_auto_flow": null,
            "grid_auto_rows": null,
            "grid_column": null,
            "grid_gap": null,
            "grid_row": null,
            "grid_template_areas": null,
            "grid_template_columns": null,
            "grid_template_rows": null,
            "height": null,
            "justify_content": null,
            "justify_items": null,
            "left": null,
            "margin": null,
            "max_height": null,
            "max_width": null,
            "min_height": null,
            "min_width": null,
            "object_fit": null,
            "object_position": null,
            "order": null,
            "overflow": null,
            "overflow_x": null,
            "overflow_y": null,
            "padding": null,
            "right": null,
            "top": null,
            "visibility": null,
            "width": null
          }
        },
        "68615777391a4cc9830654cf08216085": {
          "model_module": "@jupyter-widgets/controls",
          "model_module_version": "1.5.0",
          "model_name": "DescriptionStyleModel",
          "state": {
            "_model_module": "@jupyter-widgets/controls",
            "_model_module_version": "1.5.0",
            "_model_name": "DescriptionStyleModel",
            "_view_count": null,
            "_view_module": "@jupyter-widgets/base",
            "_view_module_version": "1.2.0",
            "_view_name": "StyleView",
            "description_width": ""
          }
        },
        "6b5819ef11144ca3a5fa040813ae5ac2": {
          "model_module": "@jupyter-widgets/controls",
          "model_module_version": "1.5.0",
          "model_name": "ProgressStyleModel",
          "state": {
            "_model_module": "@jupyter-widgets/controls",
            "_model_module_version": "1.5.0",
            "_model_name": "ProgressStyleModel",
            "_view_count": null,
            "_view_module": "@jupyter-widgets/base",
            "_view_module_version": "1.2.0",
            "_view_name": "StyleView",
            "bar_color": null,
            "description_width": ""
          }
        },
        "6db161176be549a9812408fba0a1047f": {
          "model_module": "@jupyter-widgets/controls",
          "model_module_version": "1.5.0",
          "model_name": "DescriptionStyleModel",
          "state": {
            "_model_module": "@jupyter-widgets/controls",
            "_model_module_version": "1.5.0",
            "_model_name": "DescriptionStyleModel",
            "_view_count": null,
            "_view_module": "@jupyter-widgets/base",
            "_view_module_version": "1.2.0",
            "_view_name": "StyleView",
            "description_width": ""
          }
        },
        "7688f54f71e342f9925cb7e2305ccead": {
          "model_module": "@jupyter-widgets/controls",
          "model_module_version": "1.5.0",
          "model_name": "FloatProgressModel",
          "state": {
            "_dom_classes": [],
            "_model_module": "@jupyter-widgets/controls",
            "_model_module_version": "1.5.0",
            "_model_name": "FloatProgressModel",
            "_view_count": null,
            "_view_module": "@jupyter-widgets/controls",
            "_view_module_version": "1.5.0",
            "_view_name": "ProgressView",
            "bar_style": "",
            "description": "",
            "description_tooltip": null,
            "layout": "IPY_MODEL_3becd19ebba44a4b80a429f5e82e6183",
            "max": 1,
            "min": 0,
            "orientation": "horizontal",
            "style": "IPY_MODEL_6b5819ef11144ca3a5fa040813ae5ac2",
            "value": 1
          }
        },
        "7dfd994e38054f38b5585dc691ac1111": {
          "model_module": "@jupyter-widgets/controls",
          "model_module_version": "1.5.0",
          "model_name": "DescriptionStyleModel",
          "state": {
            "_model_module": "@jupyter-widgets/controls",
            "_model_module_version": "1.5.0",
            "_model_name": "DescriptionStyleModel",
            "_view_count": null,
            "_view_module": "@jupyter-widgets/base",
            "_view_module_version": "1.2.0",
            "_view_name": "StyleView",
            "description_width": ""
          }
        },
        "7fe2f5d1329b48169e9f719401a58d89": {
          "model_module": "@jupyter-widgets/controls",
          "model_module_version": "1.5.0",
          "model_name": "LabelModel",
          "state": {
            "_dom_classes": [],
            "_model_module": "@jupyter-widgets/controls",
            "_model_module_version": "1.5.0",
            "_model_name": "LabelModel",
            "_view_count": null,
            "_view_module": "@jupyter-widgets/controls",
            "_view_module_version": "1.5.0",
            "_view_name": "LabelView",
            "description": "",
            "description_tooltip": null,
            "layout": "IPY_MODEL_54c0e0475a8f4101a317c6bbd02a9ae5",
            "placeholder": "​",
            "style": "IPY_MODEL_6db161176be549a9812408fba0a1047f",
            "value": "0.016 MB of 0.016 MB uploaded\r"
          }
        },
        "9e50fbbf1bc74ba38943c0eaa4e8261e": {
          "model_module": "@jupyter-widgets/base",
          "model_module_version": "1.2.0",
          "model_name": "LayoutModel",
          "state": {
            "_model_module": "@jupyter-widgets/base",
            "_model_module_version": "1.2.0",
            "_model_name": "LayoutModel",
            "_view_count": null,
            "_view_module": "@jupyter-widgets/base",
            "_view_module_version": "1.2.0",
            "_view_name": "LayoutView",
            "align_content": null,
            "align_items": null,
            "align_self": null,
            "border": null,
            "bottom": null,
            "display": null,
            "flex": null,
            "flex_flow": null,
            "grid_area": null,
            "grid_auto_columns": null,
            "grid_auto_flow": null,
            "grid_auto_rows": null,
            "grid_column": null,
            "grid_gap": null,
            "grid_row": null,
            "grid_template_areas": null,
            "grid_template_columns": null,
            "grid_template_rows": null,
            "height": null,
            "justify_content": null,
            "justify_items": null,
            "left": null,
            "margin": null,
            "max_height": null,
            "max_width": null,
            "min_height": null,
            "min_width": null,
            "object_fit": null,
            "object_position": null,
            "order": null,
            "overflow": null,
            "overflow_x": null,
            "overflow_y": null,
            "padding": null,
            "right": null,
            "top": null,
            "visibility": null,
            "width": null
          }
        },
        "b4c9fe956e7f469aa359d9804cd14262": {
          "model_module": "@jupyter-widgets/base",
          "model_module_version": "1.2.0",
          "model_name": "LayoutModel",
          "state": {
            "_model_module": "@jupyter-widgets/base",
            "_model_module_version": "1.2.0",
            "_model_name": "LayoutModel",
            "_view_count": null,
            "_view_module": "@jupyter-widgets/base",
            "_view_module_version": "1.2.0",
            "_view_name": "LayoutView",
            "align_content": null,
            "align_items": null,
            "align_self": null,
            "border": null,
            "bottom": null,
            "display": null,
            "flex": null,
            "flex_flow": null,
            "grid_area": null,
            "grid_auto_columns": null,
            "grid_auto_flow": null,
            "grid_auto_rows": null,
            "grid_column": null,
            "grid_gap": null,
            "grid_row": null,
            "grid_template_areas": null,
            "grid_template_columns": null,
            "grid_template_rows": null,
            "height": null,
            "justify_content": null,
            "justify_items": null,
            "left": null,
            "margin": null,
            "max_height": null,
            "max_width": null,
            "min_height": null,
            "min_width": null,
            "object_fit": null,
            "object_position": null,
            "order": null,
            "overflow": null,
            "overflow_x": null,
            "overflow_y": null,
            "padding": null,
            "right": null,
            "top": null,
            "visibility": null,
            "width": null
          }
        },
        "d2514ae71b53449fb0bebf0336fd5d9a": {
          "model_module": "@jupyter-widgets/controls",
          "model_module_version": "1.5.0",
          "model_name": "FloatProgressModel",
          "state": {
            "_dom_classes": [],
            "_model_module": "@jupyter-widgets/controls",
            "_model_module_version": "1.5.0",
            "_model_name": "FloatProgressModel",
            "_view_count": null,
            "_view_module": "@jupyter-widgets/controls",
            "_view_module_version": "1.5.0",
            "_view_name": "ProgressView",
            "bar_style": "",
            "description": "",
            "description_tooltip": null,
            "layout": "IPY_MODEL_f49a356b7451480190ae4615addbd5e5",
            "max": 1,
            "min": 0,
            "orientation": "horizontal",
            "style": "IPY_MODEL_03acbc2f669b4badbc72f6f1c328c55f",
            "value": 1
          }
        },
        "d344fb51fb244ff3a446719f546d258d": {
          "model_module": "@jupyter-widgets/base",
          "model_module_version": "1.2.0",
          "model_name": "LayoutModel",
          "state": {
            "_model_module": "@jupyter-widgets/base",
            "_model_module_version": "1.2.0",
            "_model_name": "LayoutModel",
            "_view_count": null,
            "_view_module": "@jupyter-widgets/base",
            "_view_module_version": "1.2.0",
            "_view_name": "LayoutView",
            "align_content": null,
            "align_items": null,
            "align_self": null,
            "border": null,
            "bottom": null,
            "display": null,
            "flex": null,
            "flex_flow": null,
            "grid_area": null,
            "grid_auto_columns": null,
            "grid_auto_flow": null,
            "grid_auto_rows": null,
            "grid_column": null,
            "grid_gap": null,
            "grid_row": null,
            "grid_template_areas": null,
            "grid_template_columns": null,
            "grid_template_rows": null,
            "height": null,
            "justify_content": null,
            "justify_items": null,
            "left": null,
            "margin": null,
            "max_height": null,
            "max_width": null,
            "min_height": null,
            "min_width": null,
            "object_fit": null,
            "object_position": null,
            "order": null,
            "overflow": null,
            "overflow_x": null,
            "overflow_y": null,
            "padding": null,
            "right": null,
            "top": null,
            "visibility": null,
            "width": null
          }
        },
        "f49a356b7451480190ae4615addbd5e5": {
          "model_module": "@jupyter-widgets/base",
          "model_module_version": "1.2.0",
          "model_name": "LayoutModel",
          "state": {
            "_model_module": "@jupyter-widgets/base",
            "_model_module_version": "1.2.0",
            "_model_name": "LayoutModel",
            "_view_count": null,
            "_view_module": "@jupyter-widgets/base",
            "_view_module_version": "1.2.0",
            "_view_name": "LayoutView",
            "align_content": null,
            "align_items": null,
            "align_self": null,
            "border": null,
            "bottom": null,
            "display": null,
            "flex": null,
            "flex_flow": null,
            "grid_area": null,
            "grid_auto_columns": null,
            "grid_auto_flow": null,
            "grid_auto_rows": null,
            "grid_column": null,
            "grid_gap": null,
            "grid_row": null,
            "grid_template_areas": null,
            "grid_template_columns": null,
            "grid_template_rows": null,
            "height": null,
            "justify_content": null,
            "justify_items": null,
            "left": null,
            "margin": null,
            "max_height": null,
            "max_width": null,
            "min_height": null,
            "min_width": null,
            "object_fit": null,
            "object_position": null,
            "order": null,
            "overflow": null,
            "overflow_x": null,
            "overflow_y": null,
            "padding": null,
            "right": null,
            "top": null,
            "visibility": null,
            "width": null
          }
        },
        "fa1357a13ee9423587ffd0e6b7685fbb": {
          "model_module": "@jupyter-widgets/controls",
          "model_module_version": "1.5.0",
          "model_name": "VBoxModel",
          "state": {
            "_dom_classes": [],
            "_model_module": "@jupyter-widgets/controls",
            "_model_module_version": "1.5.0",
            "_model_name": "VBoxModel",
            "_view_count": null,
            "_view_module": "@jupyter-widgets/controls",
            "_view_module_version": "1.5.0",
            "_view_name": "VBoxView",
            "box_style": "",
            "children": [
              "IPY_MODEL_4635b2056b834ec5aba90b75b7275329",
              "IPY_MODEL_7688f54f71e342f9925cb7e2305ccead"
            ],
            "layout": "IPY_MODEL_4a0bd02a5ae54f1e86e001d50b762d0d"
          }
        }
      }
    }
  },
  "nbformat": 4,
  "nbformat_minor": 5
}
